{
 "cells": [
  {
   "cell_type": "code",
   "execution_count": 1,
   "metadata": {},
   "outputs": [
    {
     "name": "stderr",
     "output_type": "stream",
     "text": [
      "/Users/aryamantepal/anaconda3/envs/salesforce/lib/python3.10/site-packages/tqdm/auto.py:21: TqdmWarning: IProgress not found. Please update jupyter and ipywidgets. See https://ipywidgets.readthedocs.io/en/stable/user_install.html\n",
      "  from .autonotebook import tqdm as notebook_tqdm\n",
      "Importing plotly failed. Interactive plots will not work.\n"
     ]
    },
    {
     "data": {
      "text/plain": [
       "Index(['Date', 'Availability DownTime Duration in hours',\n",
       "       'Count of Customers Affected', 'Regions Affected'],\n",
       "      dtype='object')"
      ]
     },
     "execution_count": 1,
     "metadata": {},
     "output_type": "execute_result"
    }
   ],
   "source": [
    "import pandas as pd\n",
    "import numpy as np\n",
    "import matplotlib.pyplot as plt\n",
    "from prophet import Prophet\n",
    "from sklearn.preprocessing import StandardScaler\n",
    "import seaborn as sns\n",
    "\n",
    "availability_data = pd.read_csv('/Users/aryamantepal/Documents/programs/Breakthrough Tech AI MIT/AI Studio/Customer_Sentiment_Analysis/Datasets/AvailabilityData.csv', sep=\"\\t\")\n",
    "\n",
    "availability_data.columns"
   ]
  },
  {
   "cell_type": "code",
   "execution_count": 2,
   "metadata": {},
   "outputs": [
    {
     "name": "stderr",
     "output_type": "stream",
     "text": [
      "06:15:37 - cmdstanpy - INFO - Chain [1] start processing\n",
      "06:15:37 - cmdstanpy - INFO - Chain [1] done processing\n"
     ]
    }
   ],
   "source": [
    "availability_data['Date'] = pd.to_datetime(availability_data['Date'])\n",
    "\n",
    "prophet_df = availability_data.rename(columns={\n",
    "    'Date': 'ds', \n",
    "    'Availability DownTime Duration in hours': 'y'\n",
    "})\n",
    "\n",
    "model = Prophet(\n",
    "    changepoint_prior_scale=0.05,  \n",
    "    seasonality_prior_scale=10,  \n",
    "    holidays_prior_scale=10        \n",
    ")\n",
    "\n",
    "model.add_regressor('Count of Customers Affected')\n",
    "model.add_regressor('Downtime_Severity')\n",
    "\n",
    "prophet_df['Downtime_Severity'] = availability_data['Availability DownTime Duration in hours'] / availability_data['Count of Customers Affected']\n",
    "\n",
    "model.fit(prophet_df)\n",
    "\n",
    "future = model.make_future_dataframe(periods=30)  \n",
    "future['Count of Customers Affected'] = np.concatenate([\n",
    "    availability_data['Count of Customers Affected'], \n",
    "    np.full(30, availability_data['Count of Customers Affected'].mean())\n",
    "])\n",
    "future['Downtime_Severity'] = np.concatenate([\n",
    "    prophet_df['Downtime_Severity'], \n",
    "    np.full(30, prophet_df['Downtime_Severity'].mean())\n",
    "])\n",
    "\n",
    "forecast = model.predict(future)"
   ]
  },
  {
   "cell_type": "code",
   "execution_count": 3,
   "metadata": {},
   "outputs": [
    {
     "name": "stderr",
     "output_type": "stream",
     "text": [
      "/Users/aryamantepal/anaconda3/envs/salesforce/lib/python3.10/site-packages/prophet/plot.py:228: FutureWarning: The behavior of DatetimeProperties.to_pydatetime is deprecated, in a future version this will return a Series containing python datetime objects instead of an ndarray. To retain the old behavior, call `np.array` on the result\n",
      "  fcst_t = fcst['ds'].dt.to_pydatetime()\n",
      "/Users/aryamantepal/anaconda3/envs/salesforce/lib/python3.10/site-packages/prophet/plot.py:228: FutureWarning: The behavior of DatetimeProperties.to_pydatetime is deprecated, in a future version this will return a Series containing python datetime objects instead of an ndarray. To retain the old behavior, call `np.array` on the result\n",
      "  fcst_t = fcst['ds'].dt.to_pydatetime()\n"
     ]
    }
   ],
   "source": [
    "forecast_components = model.plot_components(forecast)\n",
    "plt.tight_layout()\n",
    "plt.savefig('outreach_timing_components.png')\n",
    "plt.close()"
   ]
  },
  {
   "cell_type": "code",
   "execution_count": 4,
   "metadata": {},
   "outputs": [],
   "source": [
    "# Identify optimal outreach windows\n",
    "def analyze_outreach_windows(forecast):\n",
    "    forecast['forecast_lower'] = forecast['yhat_lower']\n",
    "    forecast['forecast_upper'] = forecast['yhat_upper']\n",
    "    \n",
    "    forecast['confidence_interval'] = forecast['forecast_upper'] - forecast['forecast_lower']\n",
    "    \n",
    "    optimal_windows = forecast.nsmallest(5, 'confidence_interval')\n",
    "    \n",
    "    return optimal_windows[['ds', 'yhat', 'forecast_lower', 'forecast_upper', 'confidence_interval']]\n",
    "\n",
    "optimal_outreach_times = analyze_outreach_windows(forecast)\n",
    "\n",
    "def analyze_regional_impact(availability_data):\n",
    "    availability_data['Regions'] = availability_data['Regions Affected'].str.split(', ')\n",
    "    \n",
    "    region_impact = availability_data.explode('Regions')\n",
    "    \n",
    "    region_summary = region_impact.groupby('Regions').agg({\n",
    "        'Availability DownTime Duration in hours': ['mean', 'sum'],\n",
    "        'Count of Customers Affected': ['mean', 'sum']\n",
    "    }).reset_index()\n",
    "    \n",
    "    region_summary.columns = ['Region', 'Avg_Downtime', 'Total_Downtime', 'Avg_Customers_Affected', 'Total_Customers_Affected']\n",
    "    \n",
    "    return region_summary"
   ]
  },
  {
   "cell_type": "code",
   "execution_count": 8,
   "metadata": {},
   "outputs": [
    {
     "name": "stdout",
     "output_type": "stream",
     "text": [
      "Optimal Outreach Windows:\n",
      "            ds       yhat  forecast_lower  forecast_upper  confidence_interval\n",
      "70  2024-03-11  21.256374       14.470132       28.038434            13.568303\n",
      "68  2024-03-09  11.089421        4.138454       17.753103            13.614649\n",
      "139 2024-05-19  14.789203        7.847984       21.538783            13.690799\n",
      "16  2024-01-17  10.699471        3.980390       17.728880            13.748489\n",
      "187 2024-07-06  11.788602        4.946416       18.714492            13.768076\n",
      "\n",
      "Regional Impact Summary:\n",
      "      Region  Avg_Downtime  Total_Downtime  Avg_Customers_Affected  \\\n",
      "0  Australia     11.104167             533            24775.208333   \n",
      "1      China     12.038462             626            25284.538462   \n",
      "2     Europe     11.052632             630            29391.578947   \n",
      "3      India     11.333333             612            25425.462963   \n",
      "4      Japan     11.562500             740            22345.296875   \n",
      "5        USA      9.705882             495            24634.470588   \n",
      "\n",
      "   Total_Customers_Affected  \n",
      "0                   1189210  \n",
      "1                   1314796  \n",
      "2                   1675320  \n",
      "3                   1372975  \n",
      "4                   1430099  \n",
      "5                   1256358  \n",
      "\n",
      "Outputs generated:\n",
      "1. optimal_outreach_windows.csv - Detailed optimal outreach windows\n",
      "2. regional_impact_summary.csv - Analysis of regional impacts\n",
      "3. outreach_timing_components.png - Forecast components\n",
      "4. outreach_timing_forecast.png - Forecast visualization\n"
     ]
    }
   ],
   "source": [
    "print(\"Optimal Outreach Windows:\")\n",
    "print(optimal_outreach_times)\n",
    "\n",
    "\n",
    "regional_impact = analyze_regional_impact(availability_data)\n",
    "print(\"\\nRegional Impact Summary:\")\n",
    "print(regional_impact)\n",
    "\n",
    "\n",
    "optimal_outreach_times.to_csv('optimal_outreach_windows.csv', index=False)\n",
    "regional_impact.to_csv('regional_impact_summary.csv', index=False)\n",
    "\n",
    "\n",
    "plt.figure(figsize=(12, 6))\n",
    "plt.plot(forecast['ds'], forecast['yhat'], label='Predicted Downtime')\n",
    "plt.fill_between(forecast['ds'], forecast['yhat_lower'], forecast['yhat_upper'], alpha=0.3)\n",
    "plt.title('Predicted Downtime with Confidence Interval')\n",
    "plt.xlabel('Date')\n",
    "plt.ylabel('Predicted Downtime Duration (hours)')\n",
    "plt.legend()\n",
    "plt.tight_layout()\n",
    "plt.savefig('outreach_timing_forecast.png')\n",
    "plt.close()\n",
    "\n",
    "print(\"\\nOutputs generated:\")\n",
    "print(\"1. optimal_outreach_windows.csv - Detailed optimal outreach windows\")\n",
    "print(\"2. regional_impact_summary.csv - Analysis of regional impacts\")\n",
    "print(\"3. outreach_timing_components.png - Forecast components\")\n",
    "print(\"4. outreach_timing_forecast.png - Forecast visualization\")"
   ]
  },
  {
   "cell_type": "code",
   "execution_count": null,
   "metadata": {},
   "outputs": [],
   "source": []
  },
  {
   "cell_type": "code",
   "execution_count": null,
   "metadata": {},
   "outputs": [],
   "source": []
  }
 ],
 "metadata": {
  "kernelspec": {
   "display_name": "salesforce",
   "language": "python",
   "name": "python3"
  },
  "language_info": {
   "codemirror_mode": {
    "name": "ipython",
    "version": 3
   },
   "file_extension": ".py",
   "mimetype": "text/x-python",
   "name": "python",
   "nbconvert_exporter": "python",
   "pygments_lexer": "ipython3",
   "version": "3.10.15"
  },
  "orig_nbformat": 4
 },
 "nbformat": 4,
 "nbformat_minor": 2
}
