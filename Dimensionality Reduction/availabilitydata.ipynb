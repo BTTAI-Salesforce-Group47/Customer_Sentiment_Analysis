{
 "cells": [
  {
   "cell_type": "code",
   "execution_count": 1,
   "metadata": {},
   "outputs": [],
   "source": [
    "# importing libraries\n",
    "import pandas as pd\n",
    "import numpy as np"
   ]
  },
  {
   "cell_type": "markdown",
   "metadata": {},
   "source": [
    "loading availability data set\n"
   ]
  },
  {
   "cell_type": "code",
   "execution_count": 10,
   "metadata": {},
   "outputs": [
    {
     "data": {
      "text/html": [
       "<div>\n",
       "<style scoped>\n",
       "    .dataframe tbody tr th:only-of-type {\n",
       "        vertical-align: middle;\n",
       "    }\n",
       "\n",
       "    .dataframe tbody tr th {\n",
       "        vertical-align: top;\n",
       "    }\n",
       "\n",
       "    .dataframe thead th {\n",
       "        text-align: right;\n",
       "    }\n",
       "</style>\n",
       "<table border=\"1\" class=\"dataframe\">\n",
       "  <thead>\n",
       "    <tr style=\"text-align: right;\">\n",
       "      <th></th>\n",
       "      <th>Date</th>\n",
       "      <th>Availability DownTime Duration in hours</th>\n",
       "      <th>Count of Customers Affected</th>\n",
       "      <th>Regions Affected</th>\n",
       "    </tr>\n",
       "  </thead>\n",
       "  <tbody>\n",
       "    <tr>\n",
       "      <th>0</th>\n",
       "      <td>2024-01-01</td>\n",
       "      <td>2</td>\n",
       "      <td>26855</td>\n",
       "      <td>Japan, China, Europe</td>\n",
       "    </tr>\n",
       "    <tr>\n",
       "      <th>1</th>\n",
       "      <td>2024-01-02</td>\n",
       "      <td>6</td>\n",
       "      <td>43613</td>\n",
       "      <td>Europe</td>\n",
       "    </tr>\n",
       "    <tr>\n",
       "      <th>2</th>\n",
       "      <td>2024-01-03</td>\n",
       "      <td>12</td>\n",
       "      <td>46082</td>\n",
       "      <td>India, Australia, Japan</td>\n",
       "    </tr>\n",
       "    <tr>\n",
       "      <th>3</th>\n",
       "      <td>2024-01-04</td>\n",
       "      <td>14</td>\n",
       "      <td>3150</td>\n",
       "      <td>Japan, China, Europe</td>\n",
       "    </tr>\n",
       "    <tr>\n",
       "      <th>4</th>\n",
       "      <td>2024-01-05</td>\n",
       "      <td>7</td>\n",
       "      <td>4454</td>\n",
       "      <td>India, Australia, Japan</td>\n",
       "    </tr>\n",
       "  </tbody>\n",
       "</table>\n",
       "</div>"
      ],
      "text/plain": [
       "         Date  Availability DownTime Duration in hours  \\\n",
       "0  2024-01-01                                        2   \n",
       "1  2024-01-02                                        6   \n",
       "2  2024-01-03                                       12   \n",
       "3  2024-01-04                                       14   \n",
       "4  2024-01-05                                        7   \n",
       "\n",
       "   Count of Customers Affected         Regions Affected  \n",
       "0                        26855     Japan, China, Europe  \n",
       "1                        43613                   Europe  \n",
       "2                        46082  India, Australia, Japan  \n",
       "3                         3150     Japan, China, Europe  \n",
       "4                         4454  India, Australia, Japan  "
      ]
     },
     "execution_count": 10,
     "metadata": {},
     "output_type": "execute_result"
    }
   ],
   "source": [
    "# issue with leadsdata; look into this later\n",
    "df = pd.read_csv(\"/Users/aryamantepal/Documents/programs/Breakthrough Tech AI MIT/AI Studio/Customer_Sentiment_Analysis/Datasets/AvailabilityData.csv\", sep=\"\\t\")\n",
    "df.head()"
   ]
  },
  {
   "cell_type": "markdown",
   "metadata": {},
   "source": [
    "remove missing and duplicate values"
   ]
  },
  {
   "cell_type": "code",
   "execution_count": 11,
   "metadata": {},
   "outputs": [
    {
     "data": {
      "text/plain": [
       "Date                                       0\n",
       "Availability DownTime Duration in hours    0\n",
       "Count of Customers Affected                0\n",
       "Regions Affected                           0\n",
       "dtype: int64"
      ]
     },
     "execution_count": 11,
     "metadata": {},
     "output_type": "execute_result"
    }
   ],
   "source": [
    "nan_count = np.sum(df.isnull(), axis = 0)\n",
    "nan_count"
   ]
  },
  {
   "cell_type": "markdown",
   "metadata": {},
   "source": [
    "No missing values in availability data"
   ]
  },
  {
   "cell_type": "markdown",
   "metadata": {},
   "source": [
    "Let's drop duplicate values"
   ]
  },
  {
   "cell_type": "code",
   "execution_count": 12,
   "metadata": {},
   "outputs": [
    {
     "data": {
      "text/plain": [
       "664"
      ]
     },
     "execution_count": 12,
     "metadata": {},
     "output_type": "execute_result"
    }
   ],
   "source": [
    "df.size"
   ]
  },
  {
   "cell_type": "code",
   "execution_count": 13,
   "metadata": {},
   "outputs": [],
   "source": [
    "df = df.drop_duplicates()"
   ]
  },
  {
   "cell_type": "code",
   "execution_count": 14,
   "metadata": {},
   "outputs": [
    {
     "data": {
      "text/plain": [
       "664"
      ]
     },
     "execution_count": 14,
     "metadata": {},
     "output_type": "execute_result"
    }
   ],
   "source": [
    "df.size"
   ]
  },
  {
   "cell_type": "markdown",
   "metadata": {},
   "source": [
    "# One-hot encoding of the regions affected data"
   ]
  },
  {
   "cell_type": "code",
   "execution_count": 3,
   "metadata": {},
   "outputs": [
    {
     "data": {
      "text/plain": [
       "Date                                       object\n",
       "Availability DownTime Duration in hours     int64\n",
       "Count of Customers Affected                 int64\n",
       "Regions Affected                           object\n",
       "dtype: object"
      ]
     },
     "execution_count": 3,
     "metadata": {},
     "output_type": "execute_result"
    }
   ],
   "source": [
    "df.dtypes"
   ]
  },
  {
   "cell_type": "code",
   "execution_count": 4,
   "metadata": {},
   "outputs": [
    {
     "data": {
      "text/plain": [
       "array(['Japan, China, Europe', 'Europe', 'India, Australia, Japan',\n",
       "       'Japan, India, China', 'USA, India, Europe', 'China',\n",
       "       'USA, Australia, China', 'Europe, India, Australia', 'Japan',\n",
       "       'USA', 'India', 'Australia', 'USA, Japan'], dtype=object)"
      ]
     },
     "execution_count": 4,
     "metadata": {},
     "output_type": "execute_result"
    }
   ],
   "source": [
    "df[\"Regions Affected\"].unique()"
   ]
  },
  {
   "cell_type": "code",
   "execution_count": 5,
   "metadata": {},
   "outputs": [
    {
     "data": {
      "text/plain": [
       "array(['2024-01-01', '2024-01-02', '2024-01-03', '2024-01-04',\n",
       "       '2024-01-05', '2024-01-06', '2024-01-07', '2024-01-08',\n",
       "       '2024-01-09', '2024-01-10', '2024-01-11', '2024-01-12',\n",
       "       '2024-01-13', '2024-01-14', '2024-01-15', '2024-01-16',\n",
       "       '2024-01-17', '2024-01-18', '2024-01-19', '2024-01-20',\n",
       "       '2024-01-21', '2024-01-22', '2024-01-23', '2024-01-24',\n",
       "       '2024-01-25', '2024-01-26', '2024-01-27', '2024-01-28',\n",
       "       '2024-01-29', '2024-01-30', '2024-01-31', '2024-02-01',\n",
       "       '2024-02-02', '2024-02-03', '2024-02-04', '2024-02-05',\n",
       "       '2024-02-06', '2024-02-07', '2024-02-08', '2024-02-09',\n",
       "       '2024-02-10', '2024-02-11', '2024-02-12', '2024-02-13',\n",
       "       '2024-02-14', '2024-02-15', '2024-02-16', '2024-02-17',\n",
       "       '2024-02-18', '2024-02-19', '2024-02-20', '2024-02-21',\n",
       "       '2024-02-22', '2024-02-23', '2024-02-24', '2024-02-25',\n",
       "       '2024-02-26', '2024-02-27', '2024-02-28', '2024-02-29',\n",
       "       '2024-03-01', '2024-03-02', '2024-03-03', '2024-03-04',\n",
       "       '2024-03-05', '2024-03-06', '2024-03-07', '2024-03-08',\n",
       "       '2024-03-09', '2024-03-10', '2024-03-11', '2024-03-12',\n",
       "       '2024-03-13', '2024-03-14', '2024-03-15', '2024-03-16',\n",
       "       '2024-03-17', '2024-03-18', '2024-03-19', '2024-03-20',\n",
       "       '2024-03-21', '2024-03-22', '2024-03-23', '2024-03-24',\n",
       "       '2024-03-25', '2024-03-26', '2024-03-27', '2024-03-28',\n",
       "       '2024-03-29', '2024-03-30', '2024-03-31', '2024-04-01',\n",
       "       '2024-04-02', '2024-04-03', '2024-04-04', '2024-04-05',\n",
       "       '2024-04-06', '2024-04-07', '2024-04-08', '2024-04-09',\n",
       "       '2024-04-10', '2024-04-11', '2024-04-12', '2024-04-13',\n",
       "       '2024-04-14', '2024-04-15', '2024-04-16', '2024-04-17',\n",
       "       '2024-04-18', '2024-04-19', '2024-04-20', '2024-04-21',\n",
       "       '2024-04-22', '2024-04-23', '2024-04-24', '2024-04-25',\n",
       "       '2024-04-26', '2024-04-27', '2024-04-28', '2024-04-29',\n",
       "       '2024-04-30', '2024-05-01', '2024-05-02', '2024-05-03',\n",
       "       '2024-05-04', '2024-05-05', '2024-05-06', '2024-05-07',\n",
       "       '2024-05-08', '2024-05-09', '2024-05-10', '2024-05-11',\n",
       "       '2024-05-12', '2024-05-13', '2024-05-14', '2024-05-15',\n",
       "       '2024-05-16', '2024-05-17', '2024-05-18', '2024-05-19',\n",
       "       '2024-05-20', '2024-05-21', '2024-05-22', '2024-05-23',\n",
       "       '2024-05-24', '2024-05-25', '2024-05-26', '2024-05-27',\n",
       "       '2024-05-28', '2024-05-29', '2024-05-30', '2024-05-31',\n",
       "       '2024-06-01', '2024-06-02', '2024-06-03', '2024-06-04',\n",
       "       '2024-06-05', '2024-06-06', '2024-06-07', '2024-06-08',\n",
       "       '2024-06-09', '2024-06-10', '2024-06-11', '2024-06-12',\n",
       "       '2024-06-13', '2024-06-14'], dtype=object)"
      ]
     },
     "execution_count": 5,
     "metadata": {},
     "output_type": "execute_result"
    }
   ],
   "source": [
    "df['Date'].unique()"
   ]
  },
  {
   "cell_type": "markdown",
   "metadata": {},
   "source": [
    "#### There are 165 unique dates. We can skip the dimensionality reduction on the dates, and implement it only on the Regions Affected column."
   ]
  },
  {
   "cell_type": "code",
   "execution_count": 6,
   "metadata": {},
   "outputs": [
    {
     "data": {
      "text/html": [
       "<div>\n",
       "<style scoped>\n",
       "    .dataframe tbody tr th:only-of-type {\n",
       "        vertical-align: middle;\n",
       "    }\n",
       "\n",
       "    .dataframe tbody tr th {\n",
       "        vertical-align: top;\n",
       "    }\n",
       "\n",
       "    .dataframe thead th {\n",
       "        text-align: right;\n",
       "    }\n",
       "</style>\n",
       "<table border=\"1\" class=\"dataframe\">\n",
       "  <thead>\n",
       "    <tr style=\"text-align: right;\">\n",
       "      <th></th>\n",
       "      <th>Regions Affected</th>\n",
       "    </tr>\n",
       "  </thead>\n",
       "  <tbody>\n",
       "    <tr>\n",
       "      <th>0</th>\n",
       "      <td>Japan, China, Europe</td>\n",
       "    </tr>\n",
       "    <tr>\n",
       "      <th>1</th>\n",
       "      <td>Europe</td>\n",
       "    </tr>\n",
       "    <tr>\n",
       "      <th>2</th>\n",
       "      <td>India, Australia, Japan</td>\n",
       "    </tr>\n",
       "    <tr>\n",
       "      <th>3</th>\n",
       "      <td>Japan, China, Europe</td>\n",
       "    </tr>\n",
       "    <tr>\n",
       "      <th>4</th>\n",
       "      <td>India, Australia, Japan</td>\n",
       "    </tr>\n",
       "    <tr>\n",
       "      <th>...</th>\n",
       "      <td>...</td>\n",
       "    </tr>\n",
       "    <tr>\n",
       "      <th>161</th>\n",
       "      <td>USA</td>\n",
       "    </tr>\n",
       "    <tr>\n",
       "      <th>162</th>\n",
       "      <td>Japan, China, Europe</td>\n",
       "    </tr>\n",
       "    <tr>\n",
       "      <th>163</th>\n",
       "      <td>USA, India, Europe</td>\n",
       "    </tr>\n",
       "    <tr>\n",
       "      <th>164</th>\n",
       "      <td>China</td>\n",
       "    </tr>\n",
       "    <tr>\n",
       "      <th>165</th>\n",
       "      <td>Japan, China, Europe</td>\n",
       "    </tr>\n",
       "  </tbody>\n",
       "</table>\n",
       "<p>166 rows × 1 columns</p>\n",
       "</div>"
      ],
      "text/plain": [
       "            Regions Affected\n",
       "0       Japan, China, Europe\n",
       "1                     Europe\n",
       "2    India, Australia, Japan\n",
       "3       Japan, China, Europe\n",
       "4    India, Australia, Japan\n",
       "..                       ...\n",
       "161                      USA\n",
       "162     Japan, China, Europe\n",
       "163       USA, India, Europe\n",
       "164                    China\n",
       "165     Japan, China, Europe\n",
       "\n",
       "[166 rows x 1 columns]"
      ]
     },
     "execution_count": 6,
     "metadata": {},
     "output_type": "execute_result"
    }
   ],
   "source": [
    "to_encode = ['Regions Affected']\n",
    "df[to_encode]"
   ]
  },
  {
   "cell_type": "code",
   "execution_count": 7,
   "metadata": {},
   "outputs": [
    {
     "data": {
      "text/html": [
       "<div>\n",
       "<style scoped>\n",
       "    .dataframe tbody tr th:only-of-type {\n",
       "        vertical-align: middle;\n",
       "    }\n",
       "\n",
       "    .dataframe tbody tr th {\n",
       "        vertical-align: top;\n",
       "    }\n",
       "\n",
       "    .dataframe thead th {\n",
       "        text-align: right;\n",
       "    }\n",
       "</style>\n",
       "<table border=\"1\" class=\"dataframe\">\n",
       "  <thead>\n",
       "    <tr style=\"text-align: right;\">\n",
       "      <th></th>\n",
       "      <th>0</th>\n",
       "      <th>1</th>\n",
       "      <th>2</th>\n",
       "      <th>3</th>\n",
       "      <th>4</th>\n",
       "      <th>5</th>\n",
       "      <th>6</th>\n",
       "      <th>7</th>\n",
       "      <th>8</th>\n",
       "      <th>9</th>\n",
       "      <th>10</th>\n",
       "      <th>11</th>\n",
       "      <th>12</th>\n",
       "    </tr>\n",
       "  </thead>\n",
       "  <tbody>\n",
       "    <tr>\n",
       "      <th>0</th>\n",
       "      <td>0.0</td>\n",
       "      <td>0.0</td>\n",
       "      <td>0.0</td>\n",
       "      <td>0.0</td>\n",
       "      <td>0.0</td>\n",
       "      <td>0.0</td>\n",
       "      <td>0.0</td>\n",
       "      <td>1.0</td>\n",
       "      <td>0.0</td>\n",
       "      <td>0.0</td>\n",
       "      <td>0.0</td>\n",
       "      <td>0.0</td>\n",
       "      <td>0.0</td>\n",
       "    </tr>\n",
       "    <tr>\n",
       "      <th>1</th>\n",
       "      <td>0.0</td>\n",
       "      <td>0.0</td>\n",
       "      <td>1.0</td>\n",
       "      <td>0.0</td>\n",
       "      <td>0.0</td>\n",
       "      <td>0.0</td>\n",
       "      <td>0.0</td>\n",
       "      <td>0.0</td>\n",
       "      <td>0.0</td>\n",
       "      <td>0.0</td>\n",
       "      <td>0.0</td>\n",
       "      <td>0.0</td>\n",
       "      <td>0.0</td>\n",
       "    </tr>\n",
       "    <tr>\n",
       "      <th>2</th>\n",
       "      <td>0.0</td>\n",
       "      <td>0.0</td>\n",
       "      <td>0.0</td>\n",
       "      <td>0.0</td>\n",
       "      <td>0.0</td>\n",
       "      <td>1.0</td>\n",
       "      <td>0.0</td>\n",
       "      <td>0.0</td>\n",
       "      <td>0.0</td>\n",
       "      <td>0.0</td>\n",
       "      <td>0.0</td>\n",
       "      <td>0.0</td>\n",
       "      <td>0.0</td>\n",
       "    </tr>\n",
       "    <tr>\n",
       "      <th>3</th>\n",
       "      <td>0.0</td>\n",
       "      <td>0.0</td>\n",
       "      <td>0.0</td>\n",
       "      <td>0.0</td>\n",
       "      <td>0.0</td>\n",
       "      <td>0.0</td>\n",
       "      <td>0.0</td>\n",
       "      <td>1.0</td>\n",
       "      <td>0.0</td>\n",
       "      <td>0.0</td>\n",
       "      <td>0.0</td>\n",
       "      <td>0.0</td>\n",
       "      <td>0.0</td>\n",
       "    </tr>\n",
       "    <tr>\n",
       "      <th>4</th>\n",
       "      <td>0.0</td>\n",
       "      <td>0.0</td>\n",
       "      <td>0.0</td>\n",
       "      <td>0.0</td>\n",
       "      <td>0.0</td>\n",
       "      <td>1.0</td>\n",
       "      <td>0.0</td>\n",
       "      <td>0.0</td>\n",
       "      <td>0.0</td>\n",
       "      <td>0.0</td>\n",
       "      <td>0.0</td>\n",
       "      <td>0.0</td>\n",
       "      <td>0.0</td>\n",
       "    </tr>\n",
       "  </tbody>\n",
       "</table>\n",
       "</div>"
      ],
      "text/plain": [
       "    0    1    2    3    4    5    6    7    8    9    10   11   12\n",
       "0  0.0  0.0  0.0  0.0  0.0  0.0  0.0  1.0  0.0  0.0  0.0  0.0  0.0\n",
       "1  0.0  0.0  1.0  0.0  0.0  0.0  0.0  0.0  0.0  0.0  0.0  0.0  0.0\n",
       "2  0.0  0.0  0.0  0.0  0.0  1.0  0.0  0.0  0.0  0.0  0.0  0.0  0.0\n",
       "3  0.0  0.0  0.0  0.0  0.0  0.0  0.0  1.0  0.0  0.0  0.0  0.0  0.0\n",
       "4  0.0  0.0  0.0  0.0  0.0  1.0  0.0  0.0  0.0  0.0  0.0  0.0  0.0"
      ]
     },
     "execution_count": 7,
     "metadata": {},
     "output_type": "execute_result"
    }
   ],
   "source": [
    "from sklearn.preprocessing import OneHotEncoder # Import OneHotEncoder\n",
    "encoder = OneHotEncoder(sparse_output=False)\n",
    "df_enc = pd.DataFrame(encoder.fit_transform(df[to_encode]))\n",
    "df_enc.head()"
   ]
  },
  {
   "cell_type": "code",
   "execution_count": 8,
   "metadata": {},
   "outputs": [
    {
     "data": {
      "text/html": [
       "<div>\n",
       "<style scoped>\n",
       "    .dataframe tbody tr th:only-of-type {\n",
       "        vertical-align: middle;\n",
       "    }\n",
       "\n",
       "    .dataframe tbody tr th {\n",
       "        vertical-align: top;\n",
       "    }\n",
       "\n",
       "    .dataframe thead th {\n",
       "        text-align: right;\n",
       "    }\n",
       "</style>\n",
       "<table border=\"1\" class=\"dataframe\">\n",
       "  <thead>\n",
       "    <tr style=\"text-align: right;\">\n",
       "      <th></th>\n",
       "      <th>Regions Affected_Australia</th>\n",
       "      <th>Regions Affected_China</th>\n",
       "      <th>Regions Affected_Europe</th>\n",
       "      <th>Regions Affected_Europe, India, Australia</th>\n",
       "      <th>Regions Affected_India</th>\n",
       "      <th>Regions Affected_India, Australia, Japan</th>\n",
       "      <th>Regions Affected_Japan</th>\n",
       "      <th>Regions Affected_Japan, China, Europe</th>\n",
       "      <th>Regions Affected_Japan, India, China</th>\n",
       "      <th>Regions Affected_USA</th>\n",
       "      <th>Regions Affected_USA, Australia, China</th>\n",
       "      <th>Regions Affected_USA, India, Europe</th>\n",
       "      <th>Regions Affected_USA, Japan</th>\n",
       "    </tr>\n",
       "  </thead>\n",
       "  <tbody>\n",
       "    <tr>\n",
       "      <th>0</th>\n",
       "      <td>0.0</td>\n",
       "      <td>0.0</td>\n",
       "      <td>0.0</td>\n",
       "      <td>0.0</td>\n",
       "      <td>0.0</td>\n",
       "      <td>0.0</td>\n",
       "      <td>0.0</td>\n",
       "      <td>1.0</td>\n",
       "      <td>0.0</td>\n",
       "      <td>0.0</td>\n",
       "      <td>0.0</td>\n",
       "      <td>0.0</td>\n",
       "      <td>0.0</td>\n",
       "    </tr>\n",
       "    <tr>\n",
       "      <th>1</th>\n",
       "      <td>0.0</td>\n",
       "      <td>0.0</td>\n",
       "      <td>1.0</td>\n",
       "      <td>0.0</td>\n",
       "      <td>0.0</td>\n",
       "      <td>0.0</td>\n",
       "      <td>0.0</td>\n",
       "      <td>0.0</td>\n",
       "      <td>0.0</td>\n",
       "      <td>0.0</td>\n",
       "      <td>0.0</td>\n",
       "      <td>0.0</td>\n",
       "      <td>0.0</td>\n",
       "    </tr>\n",
       "    <tr>\n",
       "      <th>2</th>\n",
       "      <td>0.0</td>\n",
       "      <td>0.0</td>\n",
       "      <td>0.0</td>\n",
       "      <td>0.0</td>\n",
       "      <td>0.0</td>\n",
       "      <td>1.0</td>\n",
       "      <td>0.0</td>\n",
       "      <td>0.0</td>\n",
       "      <td>0.0</td>\n",
       "      <td>0.0</td>\n",
       "      <td>0.0</td>\n",
       "      <td>0.0</td>\n",
       "      <td>0.0</td>\n",
       "    </tr>\n",
       "    <tr>\n",
       "      <th>3</th>\n",
       "      <td>0.0</td>\n",
       "      <td>0.0</td>\n",
       "      <td>0.0</td>\n",
       "      <td>0.0</td>\n",
       "      <td>0.0</td>\n",
       "      <td>0.0</td>\n",
       "      <td>0.0</td>\n",
       "      <td>1.0</td>\n",
       "      <td>0.0</td>\n",
       "      <td>0.0</td>\n",
       "      <td>0.0</td>\n",
       "      <td>0.0</td>\n",
       "      <td>0.0</td>\n",
       "    </tr>\n",
       "    <tr>\n",
       "      <th>4</th>\n",
       "      <td>0.0</td>\n",
       "      <td>0.0</td>\n",
       "      <td>0.0</td>\n",
       "      <td>0.0</td>\n",
       "      <td>0.0</td>\n",
       "      <td>1.0</td>\n",
       "      <td>0.0</td>\n",
       "      <td>0.0</td>\n",
       "      <td>0.0</td>\n",
       "      <td>0.0</td>\n",
       "      <td>0.0</td>\n",
       "      <td>0.0</td>\n",
       "      <td>0.0</td>\n",
       "    </tr>\n",
       "  </tbody>\n",
       "</table>\n",
       "</div>"
      ],
      "text/plain": [
       "   Regions Affected_Australia  Regions Affected_China  \\\n",
       "0                         0.0                     0.0   \n",
       "1                         0.0                     0.0   \n",
       "2                         0.0                     0.0   \n",
       "3                         0.0                     0.0   \n",
       "4                         0.0                     0.0   \n",
       "\n",
       "   Regions Affected_Europe  Regions Affected_Europe, India, Australia  \\\n",
       "0                      0.0                                        0.0   \n",
       "1                      1.0                                        0.0   \n",
       "2                      0.0                                        0.0   \n",
       "3                      0.0                                        0.0   \n",
       "4                      0.0                                        0.0   \n",
       "\n",
       "   Regions Affected_India  Regions Affected_India, Australia, Japan  \\\n",
       "0                     0.0                                       0.0   \n",
       "1                     0.0                                       0.0   \n",
       "2                     0.0                                       1.0   \n",
       "3                     0.0                                       0.0   \n",
       "4                     0.0                                       1.0   \n",
       "\n",
       "   Regions Affected_Japan  Regions Affected_Japan, China, Europe  \\\n",
       "0                     0.0                                    1.0   \n",
       "1                     0.0                                    0.0   \n",
       "2                     0.0                                    0.0   \n",
       "3                     0.0                                    1.0   \n",
       "4                     0.0                                    0.0   \n",
       "\n",
       "   Regions Affected_Japan, India, China  Regions Affected_USA  \\\n",
       "0                                   0.0                   0.0   \n",
       "1                                   0.0                   0.0   \n",
       "2                                   0.0                   0.0   \n",
       "3                                   0.0                   0.0   \n",
       "4                                   0.0                   0.0   \n",
       "\n",
       "   Regions Affected_USA, Australia, China  \\\n",
       "0                                     0.0   \n",
       "1                                     0.0   \n",
       "2                                     0.0   \n",
       "3                                     0.0   \n",
       "4                                     0.0   \n",
       "\n",
       "   Regions Affected_USA, India, Europe  Regions Affected_USA, Japan  \n",
       "0                                  0.0                          0.0  \n",
       "1                                  0.0                          0.0  \n",
       "2                                  0.0                          0.0  \n",
       "3                                  0.0                          0.0  \n",
       "4                                  0.0                          0.0  "
      ]
     },
     "execution_count": 8,
     "metadata": {},
     "output_type": "execute_result"
    }
   ],
   "source": [
    "df_enc.columns = encoder.get_feature_names_out(to_encode)\n",
    "df_enc.head()"
   ]
  },
  {
   "cell_type": "code",
   "execution_count": 9,
   "metadata": {},
   "outputs": [],
   "source": [
    "df.drop(columns = to_encode, inplace=True)"
   ]
  },
  {
   "cell_type": "code",
   "execution_count": 10,
   "metadata": {},
   "outputs": [
    {
     "data": {
      "text/plain": [
       "Index(['Date', 'Availability DownTime Duration in hours',\n",
       "       'Count of Customers Affected', 'Regions Affected_Australia',\n",
       "       'Regions Affected_China', 'Regions Affected_Europe',\n",
       "       'Regions Affected_Europe, India, Australia', 'Regions Affected_India',\n",
       "       'Regions Affected_India, Australia, Japan', 'Regions Affected_Japan',\n",
       "       'Regions Affected_Japan, China, Europe',\n",
       "       'Regions Affected_Japan, India, China', 'Regions Affected_USA',\n",
       "       'Regions Affected_USA, Australia, China',\n",
       "       'Regions Affected_USA, India, Europe', 'Regions Affected_USA, Japan'],\n",
       "      dtype='object')"
      ]
     },
     "execution_count": 10,
     "metadata": {},
     "output_type": "execute_result"
    }
   ],
   "source": [
    "df = df.join(df_enc)\n",
    "df.columns"
   ]
  },
  {
   "cell_type": "code",
   "execution_count": 11,
   "metadata": {},
   "outputs": [],
   "source": [
    "df = df.drop(columns=[\"Date\"])"
   ]
  },
  {
   "cell_type": "markdown",
   "metadata": {},
   "source": [
    "# Implementing PCA for dimensionality reduction\n",
    "###### skipping exploratory data analysis, visualization, as these are done concurrently with reduction.\n",
    "######  PCA is a dimension redcuction methodology which aims to reduce a large set of (often correlated) variables into a smaller set of (uncorrelated) variables, called principal components, which holds sufficient information without loosing the the relevant info much."
   ]
  },
  {
   "cell_type": "code",
   "execution_count": 13,
   "metadata": {},
   "outputs": [
    {
     "data": {
      "text/plain": [
       "array([[-1.70633115e+03, -8.93335187e+00,  9.59039091e-01],\n",
       "       [-1.84643312e+04, -5.26566731e+00, -4.36557210e-02],\n",
       "       [-2.09333313e+04,  6.90669888e-01, -4.30351652e-02],\n",
       "       [ 2.19986686e+04,  3.51711085e+00,  8.68439764e-01],\n",
       "       [ 2.06946687e+04, -3.51605188e+00,  1.53532423e-04],\n",
       "       [ 7.64966871e+03, -1.76467912e+00, -1.67411290e-02],\n",
       "       [-3.53033144e+03,  6.02713136e+00, -9.41795278e-02],\n",
       "       [ 2.15026686e+04,  2.50774941e+00,  8.76145935e-01],\n",
       "       [-1.29583313e+04,  8.41225256e-01, -4.10734088e-02],\n",
       "       [-1.92903314e+04,  2.71791720e+00, -1.05811343e-01],\n",
       "       [ 1.36146686e+04,  2.34812019e+00, -3.73652819e-01],\n",
       "       [-2.28663315e+04,  9.65174765e+00, -1.11946647e-01],\n",
       "       [ 1.12426686e+04,  5.29928095e+00, -1.18104133e-01],\n",
       "       [-8.85333119e+03, -7.07847049e+00,  1.72406132e-02],\n",
       "       [ 8.89966856e+03,  6.25844509e+00, -7.86775242e-02],\n",
       "       [ 1.93106687e+04, -3.54174203e+00, -7.11394296e-03],\n",
       "       [-1.71753312e+04, -4.23747949e+00, -9.73576477e-04],\n",
       "       [ 8.28066858e+03,  5.25566558e+00,  8.51474033e-01],\n",
       "       [-1.30703312e+04, -5.16039535e+00,  5.46606101e-03],\n",
       "       [-8.74233116e+03, -9.08015941e+00, -1.15948720e-02],\n",
       "       [ 2.21346685e+04,  7.50641605e+00, -4.56294843e-02],\n",
       "       [ 1.51996688e+04, -6.62045393e+00,  2.28489046e-02],\n",
       "       [-2.30643315e+04,  6.65023975e+00, -9.69328215e-02],\n",
       "       [-9.44533128e+03, -2.09429099e+00,  2.08625882e-02],\n",
       "       [ 2.15606687e+04, -3.49063336e+00,  9.22703357e-01],\n",
       "       [-6.32933125e+03, -4.03462830e+00, -5.01328049e-02],\n",
       "       [-1.92853313e+04, -2.27902315e+00, -1.84658965e-02],\n",
       "       [-2.26803314e+04,  1.66118866e+00, -7.32850460e-02],\n",
       "       [-2.20633311e+04, -1.03252303e+01, -6.90821321e-02],\n",
       "       [ 9.26966852e+03,  8.27000354e+00, -2.05427234e-01],\n",
       "       [-1.24233314e+04,  4.85308016e+00, -8.02920244e-02],\n",
       "       [-4.54733148e+03,  8.00169235e+00, -4.22122038e-01],\n",
       "       [-2.04833123e+03, -4.94020734e+00,  9.27968778e-01],\n",
       "       [-1.70473313e+04, -3.23430560e+00, -1.87119263e-02],\n",
       "       [-5.61533138e+03,  2.98612495e+00, -7.92415178e-02],\n",
       "       [ 1.10606687e+04, -2.70364621e+00,  3.07865877e-02],\n",
       "       [ 1.30866685e+04,  7.34198343e+00, -1.08300770e-01],\n",
       "       [-9.05033123e+03, -5.08651150e+00,  4.41799490e-02],\n",
       "       [-6.03313286e+01,  9.21823240e-02, -5.53792569e-02],\n",
       "       [ 2.00996685e+04,  7.46765724e+00, -4.58443819e-02],\n",
       "       [-1.79773315e+04,  6.74630585e+00, -8.64023130e-02],\n",
       "       [ 2.02586687e+04,  4.73691574e-01, -2.05885512e-01],\n",
       "       [-1.50143315e+04,  6.81181580e+00,  8.33496963e-01],\n",
       "       [-2.10593312e+04, -7.31265725e+00, -1.55938880e-01],\n",
       "       [-9.94633146e+03,  6.89951616e+00, -9.14945017e-02],\n",
       "       [ 8.25766875e+03, -3.75694700e+00,  3.82491381e-02],\n",
       "       [-7.99333121e+03, -6.06160592e+00,  5.51983186e-03],\n",
       "       [ 7.84766854e+03,  7.24300542e+00, -1.97818848e-01],\n",
       "       [ 1.91246688e+04, -4.54118659e+00, -1.03525394e-01],\n",
       "       [-2.45303312e+04, -4.37731249e+00, -7.69053905e-03],\n",
       "       [-1.61353314e+04,  3.78018606e+00, -2.40762946e-01],\n",
       "       [ 1.63206688e+04, -5.60079942e+00, -1.59750071e-01],\n",
       "       [ 1.11226686e+04,  4.30105474e+00, -6.59939499e-02],\n",
       "       [ 1.24986688e+04, -4.66738605e+00, -1.04225105e-01],\n",
       "       [-1.63793313e+04, -3.22386320e+00, -1.86478866e-01],\n",
       "       [-9.97333127e+03, -3.10411772e+00, -5.82761637e-02],\n",
       "       [-1.45243314e+04,  4.81306430e+00, -8.05138916e-02],\n",
       "       [ 7.22866852e+03,  8.23113045e+00, -2.05642765e-01],\n",
       "       [-1.41913313e+04,  8.18926946e-01, -3.94512113e-02],\n",
       "       [-2.33153313e+04,  6.41427495e-01, -9.07192876e-02],\n",
       "       [-5.36333115e+03, -9.01594682e+00,  7.56034972e-02],\n",
       "       [-4.76333146e+03,  6.99425821e+00, -1.35311479e-01],\n",
       "       [ 2.44576686e+04,  2.55510604e+00, -4.60003889e-02],\n",
       "       [-2.31733142e+03,  5.04489040e+00, -7.21034988e-02],\n",
       "       [ 8.98966850e+03,  9.26882756e+00,  8.20514706e-01],\n",
       "       [-7.46833121e+03, -6.05242813e+00,  1.55685895e-02],\n",
       "       [-7.48933127e+03, -3.05426991e+00, -9.46167996e-03],\n",
       "       [ 2.60366875e+03, -3.86463366e+00,  3.76520712e-02],\n",
       "       [ 1.68036685e+04,  1.04081748e+01, -4.35384455e-01],\n",
       "       [ 1.17846686e+04,  2.31841705e+00, -1.58610350e-01],\n",
       "       [ 2.35576685e+04,  1.05427104e+01, -1.22353211e-01],\n",
       "       [ 2.23646688e+04, -8.48396952e+00,  4.19946267e-02],\n",
       "       [ 6.49966879e+03, -5.78155819e+00, -9.71000546e-02],\n",
       "       [-1.57673313e+04, -3.21220699e+00, -1.86414238e-01],\n",
       "       [-1.90573315e+04,  6.72976556e+00, -1.11695202e-01],\n",
       "       [ 1.50836687e+04, -6.14251237e-01,  8.98743732e-01],\n",
       "       [ 1.38506686e+04,  2.35776629e+00, -1.58392179e-01],\n",
       "       [ 5.79668599e+02,  4.10015238e+00, -6.40390238e-02],\n",
       "       [-1.68173315e+04,  6.77242882e+00, -1.11458656e-01],\n",
       "       [-1.79043314e+04,  3.75702885e+00,  8.56467426e-01],\n",
       "       [ 1.97866686e+04,  2.46453096e+00, -2.21452455e-01],\n",
       "       [ 2.75566879e+03, -5.85801801e+00, -3.12731142e-01],\n",
       "       [ 3.82966886e+03, -9.84062640e+00, -2.50870925e-03],\n",
       "       [ 1.73276687e+04,  4.24907496e-01, -4.54256092e-02],\n",
       "       [ 2.16846685e+04,  9.50008248e+00, -2.75561871e-01],\n",
       "       [-6.05533139e+03,  2.97396624e+00, -6.00494109e-02],\n",
       "       [-1.03503313e+04, -2.10683929e+00, -2.57632673e-02],\n",
       "       [-1.44903312e+04, -9.18566251e+00,  3.21624405e-02],\n",
       "       [-2.36203314e+04,  2.63942147e+00, -6.19042889e-02],\n",
       "       [ 7.64668635e+02,  2.10337779e+00, -3.75009790e-01],\n",
       "       [ 1.81566687e+04, -2.56447631e+00, -7.87303192e-03],\n",
       "       [ 2.62866852e+03,  8.13836717e+00, -4.21364247e-01],\n",
       "       [ 2.18966687e+04, -3.49315847e+00,  2.80464583e-04],\n",
       "       [ 5.82866884e+03, -8.80037483e+00, -1.37582386e-01],\n",
       "       [-7.83314019e+01,  4.08600931e+00, -2.39067314e-01],\n",
       "       [-2.29883313e+04, -3.33920355e+00,  9.10240398e-01],\n",
       "       [-1.63343314e+04,  4.77631046e+00, -2.48542510e-01],\n",
       "       [-2.12113314e+04,  5.68504725e+00, -8.49255452e-02],\n",
       "       [ 2.31626689e+04, -9.46385130e+00, -6.43062304e-02],\n",
       "       [-9.84433113e+03, -1.00976572e+01, -2.83027514e-01],\n",
       "       [-2.59333125e+03, -3.96361625e+00,  3.71032639e-02],\n",
       "       [ 1.73736686e+04,  4.41867532e+00, -6.11459739e-02],\n",
       "       [-8.10331346e+02,  1.07259729e+00, -3.97905703e-02],\n",
       "       [-2.08723313e+04, -3.08082873e-01, -3.52701740e-02],\n",
       "       [ 6.84266879e+03, -5.77970762e+00,  1.42078492e-02],\n",
       "       [ 1.76756686e+04,  4.43044678e+00, -1.73505355e-01],\n",
       "       [-2.10073312e+04, -9.31035423e+00, -2.91964886e-01],\n",
       "       [ 1.30466881e+03, -6.88556848e+00, -3.05125820e-01],\n",
       "       [-9.84933150e+03,  8.89975617e+00, -1.02813492e-01],\n",
       "       [ 1.95666687e+04, -3.53887317e+00,  1.15400476e-03],\n",
       "       [-5.61933146e+03,  6.98249898e+00, -9.50906156e-02],\n",
       "       [-1.00523313e+04, -2.10230218e+00, -3.45117875e-01],\n",
       "       [ 1.42976686e+04,  2.36702696e+00, -6.12626787e-02],\n",
       "       [-1.86903314e+04,  3.74205861e+00,  8.56384423e-01],\n",
       "       [ 1.26166687e+04, -3.67124358e+00,  4.20079213e-04],\n",
       "       [-2.35703314e+04,  1.64102955e+00, -5.81935079e-02],\n",
       "       [-9.36033119e+03, -7.08812686e+00,  1.71870736e-02],\n",
       "       [ 9.86266859e+03,  4.28588194e+00,  8.59399643e-01],\n",
       "       [-5.36233116e+03, -9.00803127e+00,  1.38877934e-02],\n",
       "       [-2.16583315e+04,  6.68527350e+00,  8.32795352e-01],\n",
       "       [ 1.47926686e+04,  5.37030022e+00, -3.96804070e-01],\n",
       "       [-2.21593313e+04, -2.33629893e+00, -6.73215645e-02],\n",
       "       [ 7.92966886e+03, -9.75478507e+00,  2.30499887e-02],\n",
       "       [ 1.84796689e+04, -9.55819541e+00, -2.80036477e-01],\n",
       "       [-2.42353312e+04, -5.37558236e+00, -4.42651432e-02],\n",
       "       [-2.31123312e+04, -7.35402274e+00, -2.86294545e-02],\n",
       "       [ 1.75866685e+04,  8.42357597e+00, -9.04052757e-02],\n",
       "       [ 7.95466871e+03, -1.75820040e+00, -2.38302447e-02],\n",
       "       [-2.80033148e+03,  8.04086416e+00, -1.09619538e-01],\n",
       "       [ 1.05006686e+04,  5.29370557e+00, -1.82021590e-01],\n",
       "       [ 9.80766869e+03, -7.23814820e-01, -2.13997987e-02],\n",
       "       [-9.71133120e+03, -7.09878593e+00, -2.72142982e-02],\n",
       "       [-4.91331156e+02, -8.91928721e+00,  3.95810148e-02],\n",
       "       [-5.33533152e+03,  9.99085988e+00, -1.33521796e-01],\n",
       "       [-2.01333133e+03,  5.49852884e-02, -5.55854952e-02],\n",
       "       [ 9.47466862e+03,  3.26804214e+00, -2.30299960e-01],\n",
       "       [ 2.05016687e+04,  1.47823435e+00, -2.13618401e-01],\n",
       "       [-1.89043315e+04,  9.72839384e+00, -1.09775853e-01],\n",
       "       [ 1.50686687e+04,  3.76301292e-01, -2.86027824e-02],\n",
       "       [ 2.47176688e+04, -6.43964211e+00, -3.02653388e-01],\n",
       "       [-2.07113313e+04, -3.08891031e-01, -8.26857536e-02],\n",
       "       [-1.35883312e+04, -8.17000495e+00,  2.86870084e-02],\n",
       "       [ 1.18156686e+04,  4.31027980e+00, -1.10285075e-01],\n",
       "       [ 5.63366855e+03,  6.19236595e+00, -1.26454998e-01],\n",
       "       [-9.24233149e+03,  8.91733669e+00, -2.15140665e-01],\n",
       "       [-7.79331287e+02, -1.91978941e+00, -3.18206238e-02],\n",
       "       [ 6.26366886e+03, -9.78972395e+00,  3.80595805e-02],\n",
       "       [ 1.32866873e+03, -2.88659484e+00, -1.84608887e-01],\n",
       "       [ 5.76566850e+03,  9.20318058e+00, -2.13555808e-01],\n",
       "       [ 2.91866865e+03,  1.14448852e+00, -3.67023776e-01],\n",
       "       [ 1.87436688e+04, -6.55429184e+00,  2.43427439e-02],\n",
       "       [-1.58983314e+04,  5.78567090e+00, -4.07803614e-01],\n",
       "       [-3.48933123e+03, -4.97818811e+00, -1.69600573e-01],\n",
       "       [-1.03893313e+04, -1.10290786e+00, -4.05939970e-02],\n",
       "       [ 2.38146688e+04, -8.45781165e+00, -1.35683050e-01],\n",
       "       [ 2.28496688e+04, -4.47894087e+00,  4.75486145e-02],\n",
       "       [-4.54533152e+03,  1.00109532e+01,  8.11326850e-01],\n",
       "       [ 1.68666852e+03,  8.12099402e+00, -9.80245971e-02],\n",
       "       [ 1.00906688e+04, -7.71757572e+00,  2.69996643e-02],\n",
       "       [-1.82833125e+03, -3.94517897e+00,  6.47078981e-04],\n",
       "       [ 1.57656687e+04,  1.39507206e+00, -5.33491072e-02],\n",
       "       [ 2.27436688e+04, -8.48061805e+00,  7.85716189e-02],\n",
       "       [ 9.64266856e+03,  6.28152094e+00,  8.43859312e-01],\n",
       "       [ 1.99556688e+04, -5.53129339e+00,  1.67121825e-02],\n",
       "       [-1.19433313e+04, -1.13840378e+00, -3.53076116e-01],\n",
       "       [-3.20033142e+03,  5.03699729e+00,  8.50261630e-01]])"
      ]
     },
     "execution_count": 13,
     "metadata": {},
     "output_type": "execute_result"
    }
   ],
   "source": [
    "from sklearn.decomposition import PCA\n",
    "pca = PCA(n_components=3)\n",
    "pca.fit_transform(df)"
   ]
  },
  {
   "cell_type": "code",
   "execution_count": 14,
   "metadata": {},
   "outputs": [
    {
     "name": "stdout",
     "output_type": "stream",
     "text": [
      "[[-1.90706998e-05 -1.00000000e+00  3.15690580e-06  7.06408168e-07\n",
      "  -4.38700786e-06 -2.24673168e-06 -1.55000647e-06  2.22429252e-06\n",
      "  -3.66086179e-07  2.54024102e-07  1.48138350e-06  2.30864044e-06\n",
      "  -2.63763322e-06 -3.23200714e-07  1.37901159e-06]\n",
      " [ 9.99914574e-01 -1.90461012e-05  3.74218865e-03 -1.40903039e-03\n",
      "  -4.81463827e-03 -2.70400448e-04  2.93768172e-03 -9.40058424e-04\n",
      "  -1.09181453e-03  7.98453853e-03  4.48924682e-03 -4.95882139e-03\n",
      "  -8.40746726e-04 -2.27734761e-03 -2.55079793e-03]\n",
      " [-7.75854952e-03 -1.05600799e-07 -1.31194961e-01 -3.46430680e-01\n",
      "  -6.73558597e-02 -2.70446023e-02 -4.22301251e-02 -1.99232784e-02\n",
      "  -1.70512851e-02  9.02535096e-01 -3.41126641e-02  1.94856844e-02\n",
      "  -2.29915538e-02 -1.88036884e-02 -1.94882083e-01]]\n"
     ]
    }
   ],
   "source": [
    "print(pca.components_)"
   ]
  },
  {
   "cell_type": "code",
   "execution_count": null,
   "metadata": {},
   "outputs": [],
   "source": []
  },
  {
   "cell_type": "code",
   "execution_count": null,
   "metadata": {},
   "outputs": [],
   "source": []
  },
  {
   "cell_type": "code",
   "execution_count": null,
   "metadata": {},
   "outputs": [],
   "source": []
  },
  {
   "cell_type": "code",
   "execution_count": null,
   "metadata": {},
   "outputs": [],
   "source": []
  },
  {
   "cell_type": "code",
   "execution_count": null,
   "metadata": {},
   "outputs": [],
   "source": []
  }
 ],
 "metadata": {
  "kernelspec": {
   "display_name": "ML-env",
   "language": "python",
   "name": "python3"
  },
  "language_info": {
   "codemirror_mode": {
    "name": "ipython",
    "version": 3
   },
   "file_extension": ".py",
   "mimetype": "text/x-python",
   "name": "python",
   "nbconvert_exporter": "python",
   "pygments_lexer": "ipython3",
   "version": "3.11.5"
  },
  "orig_nbformat": 4
 },
 "nbformat": 4,
 "nbformat_minor": 2
}
