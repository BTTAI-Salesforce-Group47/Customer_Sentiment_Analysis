{
  "cells": [
    {
      "cell_type": "code",
      "source": [
        "import pandas as pd\n",
        "import nltk\n",
        "from nltk.corpus import words\n",
        "from nltk.corpus import stopwords\n",
        "from nltk.stem import WordNetLemmatizer\n",
        "\n",
        "nltk.download('words')  # list of common english words\n",
        "nltk.download('wordnet')  # large thesaurus with word relationships\n",
        "nltk.download('punkt')  # required for tokenization\n",
        "nltk.download('stopwords')  # list of words like \"the\" and \"a\""
      ],
      "metadata": {
        "id": "actG-8MOypkA",
        "outputId": "48284d81-0379-4451-e725-87ba56eac3f0",
        "colab": {
          "base_uri": "https://localhost:8080/"
        }
      },
      "execution_count": null,
      "outputs": [
        {
          "output_type": "stream",
          "name": "stderr",
          "text": [
            "[nltk_data] Downloading package words to /root/nltk_data...\n",
            "[nltk_data]   Package words is already up-to-date!\n",
            "[nltk_data] Downloading package wordnet to /root/nltk_data...\n",
            "[nltk_data]   Package wordnet is already up-to-date!\n",
            "[nltk_data] Downloading package punkt to /root/nltk_data...\n",
            "[nltk_data]   Package punkt is already up-to-date!\n",
            "[nltk_data] Downloading package stopwords to /root/nltk_data...\n",
            "[nltk_data]   Unzipping corpora/stopwords.zip.\n"
          ]
        },
        {
          "output_type": "execute_result",
          "data": {
            "text/plain": [
              "True"
            ]
          },
          "metadata": {},
          "execution_count": 29
        }
      ]
    },
    {
      "cell_type": "code",
      "execution_count": null,
      "metadata": {
        "id": "HwbIDr4i0tMV",
        "outputId": "515eb022-fa21-4fdf-8dc1-85f640402496",
        "colab": {
          "base_uri": "https://localhost:8080/"
        }
      },
      "outputs": [
        {
          "output_type": "stream",
          "name": "stdout",
          "text": [
            "    Timestamp  Rating                                           Feedback  \\\n",
            "0  2024-01-05      10                                          adfjhrfb    \n",
            "1  2024-04-27       1                                             test12   \n",
            "2  2024-03-12       5                                    or480r fk qkefb   \n",
            "3  2024-04-22       6  The service is decent, but it's not without it...   \n",
            "4  2024-02-14       7  The new features are incredibly useful and eas...   \n",
            "\n",
            "                               UserId  \n",
            "0                       Reply@DHL.com  \n",
            "1                    Reply@Prozac.com  \n",
            "2  Reply@Lakeport Brewing Company.com  \n",
            "3                  Reply@Informix.com  \n",
            "4                     Reply@Gucci.com  \n"
          ]
        }
      ],
      "source": [
        "\n",
        "\n",
        "feedback_data = pd.read_csv(\"/feedbackData.csv\", sep=\"\\t\")\n",
        "\n",
        "print(feedback_data.head())\n"
      ]
    },
    {
      "cell_type": "code",
      "source": [
        "print(feedback_data['Feedback'].dtype)\n",
        "\n",
        "feedback_data['Feedback'] = feedback_data['Feedback'].astype(str)\n",
        "\n",
        "print(feedback_data['Feedback'].dtype)\n"
      ],
      "metadata": {
        "id": "3xe6fYfKvxs6",
        "outputId": "26feebdb-58eb-410f-87c4-cbf0ac832bb4",
        "colab": {
          "base_uri": "https://localhost:8080/"
        }
      },
      "execution_count": null,
      "outputs": [
        {
          "output_type": "stream",
          "name": "stdout",
          "text": [
            "object\n",
            "object\n"
          ]
        }
      ]
    },
    {
      "cell_type": "code",
      "source": [
        "english_words = set(words.words()) # defined set outside of function to save time\n",
        "\n",
        "def contains_english_word(text):\n",
        "    text_words = set(text.lower().split())\n",
        "    return bool(english_words.intersection(text_words))\n",
        "\n",
        "filtered_data = feedback_data[feedback_data['Feedback'].apply(contains_english_word)]\n",
        "\n",
        "print(filtered_data.head())"
      ],
      "metadata": {
        "id": "cHO6592SuB8V",
        "outputId": "a934baff-dc34-40e5-de5b-25d4dc2a2ee2",
        "colab": {
          "base_uri": "https://localhost:8080/"
        }
      },
      "execution_count": null,
      "outputs": [
        {
          "output_type": "stream",
          "name": "stdout",
          "text": [
            "    Timestamp  Rating                                           Feedback  \\\n",
            "3  2024-04-22       6  The service is decent, but it's not without it...   \n",
            "4  2024-02-14       7  The new features are incredibly useful and eas...   \n",
            "5  2024-04-03       8  I can't say enough good things about this serv...   \n",
            "6  2024-04-06       6             Does the job, but nothing outstanding.   \n",
            "7  2024-02-18       2   The interface is confusing and hard to navigate.   \n",
            "\n",
            "                   UserId  \n",
            "3      Reply@Informix.com  \n",
            "4         Reply@Gucci.com  \n",
            "5    Reply@Lumencraft.com  \n",
            "6  Reply@Martin Print.com  \n",
            "7       Reply@Biotech.com  \n"
          ]
        }
      ]
    },
    {
      "cell_type": "code",
      "source": [
        "## Lemmatizing to get words base form in new column\n",
        "\n",
        "lemmatizer = WordNetLemmatizer()\n",
        "\n",
        "def lemmatize_text(text):\n",
        "    tokens = nltk.word_tokenize(text)  # tokenizing\n",
        "    lemmas = [lemmatizer.lemmatize(token).lower() for token in tokens]\n",
        "    return \" \".join(lemmas)\n",
        "\n",
        "filtered_data['lem_feedback'] = filtered_data['Feedback'].apply(lemmatize_text)\n",
        "\n",
        "print(filtered_data.head())"
      ],
      "metadata": {
        "id": "iWN_kDuTx4QF",
        "outputId": "3110798a-bb05-41ee-c22b-adf592215d4f",
        "colab": {
          "base_uri": "https://localhost:8080/"
        }
      },
      "execution_count": null,
      "outputs": [
        {
          "output_type": "stream",
          "name": "stdout",
          "text": [
            "    Timestamp  Rating                                           Feedback  \\\n",
            "3  2024-04-22       6  The service is decent, but it's not without it...   \n",
            "4  2024-02-14       7  The new features are incredibly useful and eas...   \n",
            "5  2024-04-03       8  I can't say enough good things about this serv...   \n",
            "6  2024-04-06       6             Does the job, but nothing outstanding.   \n",
            "7  2024-02-18       2   The interface is confusing and hard to navigate.   \n",
            "\n",
            "                   UserId                                       lem_feedback  \n",
            "3      Reply@Informix.com  the service is decent , but it 's not without ...  \n",
            "4         Reply@Gucci.com  the new feature are incredibly useful and easy...  \n",
            "5    Reply@Lumencraft.com  i ca n't say enough good thing about this serv...  \n",
            "6  Reply@Martin Print.com           does the job , but nothing outstanding .  \n",
            "7       Reply@Biotech.com  the interface is confusing and hard to navigate .  \n"
          ]
        },
        {
          "output_type": "stream",
          "name": "stderr",
          "text": [
            "<ipython-input-28-12819565bf59>:10: SettingWithCopyWarning: \n",
            "A value is trying to be set on a copy of a slice from a DataFrame.\n",
            "Try using .loc[row_indexer,col_indexer] = value instead\n",
            "\n",
            "See the caveats in the documentation: https://pandas.pydata.org/pandas-docs/stable/user_guide/indexing.html#returning-a-view-versus-a-copy\n",
            "  filtered_data['lem_feedback'] = filtered_data['Feedback'].apply(lemmatize_text)\n"
          ]
        }
      ]
    },
    {
      "cell_type": "code",
      "source": [
        "## Removing stopwords to only have core words\n",
        "\n",
        "stop_words = set(stopwords.words('english'))\n",
        "\n",
        "def remove_stopwords(text):\n",
        "    words = nltk.word_tokenize(text)\n",
        "    filtered_words = [word for word in words if word.lower() not in stop_words]\n",
        "    return \" \".join(filtered_words)\n",
        "\n",
        "filtered_data['feedback_prepped'] = filtered_data['lem_feedback'].apply(remove_stopwords)\n",
        "\n",
        "print(filtered_data.head())\n",
        "\n"
      ],
      "metadata": {
        "id": "sXzeBPQmyoOp",
        "outputId": "f95cf88a-4ba2-4d4c-b47f-cc5815dc918a",
        "colab": {
          "base_uri": "https://localhost:8080/"
        }
      },
      "execution_count": null,
      "outputs": [
        {
          "output_type": "stream",
          "name": "stdout",
          "text": [
            "    Timestamp  Rating                                           Feedback  \\\n",
            "3  2024-04-22       6  The service is decent, but it's not without it...   \n",
            "4  2024-02-14       7  The new features are incredibly useful and eas...   \n",
            "5  2024-04-03       8  I can't say enough good things about this serv...   \n",
            "6  2024-04-06       6             Does the job, but nothing outstanding.   \n",
            "7  2024-02-18       2   The interface is confusing and hard to navigate.   \n",
            "\n",
            "                   UserId                                       lem_feedback  \\\n",
            "3      Reply@Informix.com  the service is decent , but it 's not without ...   \n",
            "4         Reply@Gucci.com  the new feature are incredibly useful and easy...   \n",
            "5    Reply@Lumencraft.com  i ca n't say enough good thing about this serv...   \n",
            "6  Reply@Martin Print.com           does the job , but nothing outstanding .   \n",
            "7       Reply@Biotech.com  the interface is confusing and hard to navigate .   \n",
            "\n",
            "                                    feedback_prepped  \n",
            "3  service decent , 's without flaw . occasional ...  \n",
            "4           new feature incredibly useful easy use .  \n",
            "5  ca n't say enough good thing service . custome...  \n",
            "6                        job , nothing outstanding .  \n",
            "7                interface confusing hard navigate .  \n"
          ]
        },
        {
          "output_type": "stream",
          "name": "stderr",
          "text": [
            "<ipython-input-30-ee4d861ac9e9>:10: SettingWithCopyWarning: \n",
            "A value is trying to be set on a copy of a slice from a DataFrame.\n",
            "Try using .loc[row_indexer,col_indexer] = value instead\n",
            "\n",
            "See the caveats in the documentation: https://pandas.pydata.org/pandas-docs/stable/user_guide/indexing.html#returning-a-view-versus-a-copy\n",
            "  filtered_data['feedback_prepped'] = filtered_data['lem_feedback'].apply(remove_stopwords)\n"
          ]
        }
      ]
    },
    {
      "cell_type": "code",
      "source": [
        "filtered_data.to_csv('/feedback_data_cleaned.csv', index=False)"
      ],
      "metadata": {
        "id": "hnK88sdX6Paa"
      },
      "execution_count": null,
      "outputs": []
    }
  ],
  "metadata": {
    "kernelspec": {
      "display_name": "Python 3",
      "language": "python",
      "name": "python3"
    },
    "language_info": {
      "codemirror_mode": {
        "name": "ipython",
        "version": 3
      },
      "file_extension": ".py",
      "mimetype": "text/x-python",
      "name": "python",
      "nbconvert_exporter": "python",
      "pygments_lexer": "ipython3",
      "version": "3.11.0"
    },
    "colab": {
      "provenance": []
    }
  },
  "nbformat": 4,
  "nbformat_minor": 0
}