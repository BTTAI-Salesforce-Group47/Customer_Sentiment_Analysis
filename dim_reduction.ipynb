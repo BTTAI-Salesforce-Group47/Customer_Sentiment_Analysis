{
 "cells": [
  {
   "cell_type": "code",
   "execution_count": 1,
   "metadata": {},
   "outputs": [],
   "source": [
    "# importing libraries\n",
    "import pandas as pd"
   ]
  },
  {
   "cell_type": "markdown",
   "metadata": {},
   "source": [
    "loading availability data set\n"
   ]
  },
  {
   "cell_type": "code",
   "execution_count": 6,
   "metadata": {},
   "outputs": [
    {
     "data": {
      "text/html": [
       "<div>\n",
       "<style scoped>\n",
       "    .dataframe tbody tr th:only-of-type {\n",
       "        vertical-align: middle;\n",
       "    }\n",
       "\n",
       "    .dataframe tbody tr th {\n",
       "        vertical-align: top;\n",
       "    }\n",
       "\n",
       "    .dataframe thead th {\n",
       "        text-align: right;\n",
       "    }\n",
       "</style>\n",
       "<table border=\"1\" class=\"dataframe\">\n",
       "  <thead>\n",
       "    <tr style=\"text-align: right;\">\n",
       "      <th></th>\n",
       "      <th>Date</th>\n",
       "      <th>Availability DownTime Duration in hours</th>\n",
       "      <th>Count of Customers Affected</th>\n",
       "      <th>Regions Affected</th>\n",
       "    </tr>\n",
       "  </thead>\n",
       "  <tbody>\n",
       "    <tr>\n",
       "      <th>0</th>\n",
       "      <td>2024-01-01</td>\n",
       "      <td>2</td>\n",
       "      <td>26855</td>\n",
       "      <td>Japan, China, Europe</td>\n",
       "    </tr>\n",
       "    <tr>\n",
       "      <th>1</th>\n",
       "      <td>2024-01-02</td>\n",
       "      <td>6</td>\n",
       "      <td>43613</td>\n",
       "      <td>Europe</td>\n",
       "    </tr>\n",
       "    <tr>\n",
       "      <th>2</th>\n",
       "      <td>2024-01-03</td>\n",
       "      <td>12</td>\n",
       "      <td>46082</td>\n",
       "      <td>India, Australia, Japan</td>\n",
       "    </tr>\n",
       "    <tr>\n",
       "      <th>3</th>\n",
       "      <td>2024-01-04</td>\n",
       "      <td>14</td>\n",
       "      <td>3150</td>\n",
       "      <td>Japan, China, Europe</td>\n",
       "    </tr>\n",
       "    <tr>\n",
       "      <th>4</th>\n",
       "      <td>2024-01-05</td>\n",
       "      <td>7</td>\n",
       "      <td>4454</td>\n",
       "      <td>India, Australia, Japan</td>\n",
       "    </tr>\n",
       "  </tbody>\n",
       "</table>\n",
       "</div>"
      ],
      "text/plain": [
       "         Date  Availability DownTime Duration in hours  \\\n",
       "0  2024-01-01                                        2   \n",
       "1  2024-01-02                                        6   \n",
       "2  2024-01-03                                       12   \n",
       "3  2024-01-04                                       14   \n",
       "4  2024-01-05                                        7   \n",
       "\n",
       "   Count of Customers Affected         Regions Affected  \n",
       "0                        26855     Japan, China, Europe  \n",
       "1                        43613                   Europe  \n",
       "2                        46082  India, Australia, Japan  \n",
       "3                         3150     Japan, China, Europe  \n",
       "4                         4454  India, Australia, Japan  "
      ]
     },
     "execution_count": 6,
     "metadata": {},
     "output_type": "execute_result"
    }
   ],
   "source": [
    "# issue with leadsdata; look into this later\n",
    "df = pd.read_csv(\"./Datasets/AvailabilityData.csv\", sep=\"\\t\")\n",
    "df.head()"
   ]
  },
  {
   "cell_type": "code",
   "execution_count": 5,
   "metadata": {},
   "outputs": [
    {
     "data": {
      "text/plain": [
       "0         Japan, China, Europe\n",
       "1                       Europe\n",
       "2      India, Australia, Japan\n",
       "3         Japan, China, Europe\n",
       "4      India, Australia, Japan\n",
       "                ...           \n",
       "161                        USA\n",
       "162       Japan, China, Europe\n",
       "163         USA, India, Europe\n",
       "164                      China\n",
       "165       Japan, China, Europe\n",
       "Name: Regions Affected, Length: 166, dtype: object"
      ]
     },
     "execution_count": 5,
     "metadata": {},
     "output_type": "execute_result"
    }
   ],
   "source": [
    "df[\"Regions Affected\"]"
   ]
  },
  {
   "cell_type": "markdown",
   "metadata": {},
   "source": [
    "implementing PCA for dimensionality reduction\n",
    "** skipping exploratory data analysis, visualization, as these are done concurrently with reduction."
   ]
  },
  {
   "cell_type": "code",
   "execution_count": null,
   "metadata": {},
   "outputs": [],
   "source": []
  }
 ],
 "metadata": {
  "kernelspec": {
   "display_name": "ML-env",
   "language": "python",
   "name": "python3"
  },
  "language_info": {
   "codemirror_mode": {
    "name": "ipython",
    "version": 3
   },
   "file_extension": ".py",
   "mimetype": "text/x-python",
   "name": "python",
   "nbconvert_exporter": "python",
   "pygments_lexer": "ipython3",
   "version": "3.11.5"
  },
  "orig_nbformat": 4
 },
 "nbformat": 4,
 "nbformat_minor": 2
}
