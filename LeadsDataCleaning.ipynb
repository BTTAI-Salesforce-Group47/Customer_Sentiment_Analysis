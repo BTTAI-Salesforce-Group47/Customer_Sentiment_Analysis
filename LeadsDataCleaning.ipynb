{
  "cells": [
    {
      "cell_type": "code",
      "execution_count": 1,
      "metadata": {
        "id": "8sIGpvN8bNso"
      },
      "outputs": [],
      "source": [
        "from google.colab import files"
      ]
    },
    {
      "cell_type": "code",
      "execution_count": 2,
      "metadata": {
        "colab": {
          "base_uri": "https://localhost:8080/",
          "height": 74
        },
        "id": "b9i4ZMqJbUtD",
        "outputId": "f59cc65e-d76f-4d98-82e8-ede4702b7c99"
      },
      "outputs": [
        {
          "data": {
            "text/html": [
              "\n",
              "     <input type=\"file\" id=\"files-77cafe0e-8da7-4749-86ac-87bb01e027f7\" name=\"files[]\" multiple disabled\n",
              "        style=\"border:none\" />\n",
              "     <output id=\"result-77cafe0e-8da7-4749-86ac-87bb01e027f7\">\n",
              "      Upload widget is only available when the cell has been executed in the\n",
              "      current browser session. Please rerun this cell to enable.\n",
              "      </output>\n",
              "      <script>// Copyright 2017 Google LLC\n",
              "//\n",
              "// Licensed under the Apache License, Version 2.0 (the \"License\");\n",
              "// you may not use this file except in compliance with the License.\n",
              "// You may obtain a copy of the License at\n",
              "//\n",
              "//      http://www.apache.org/licenses/LICENSE-2.0\n",
              "//\n",
              "// Unless required by applicable law or agreed to in writing, software\n",
              "// distributed under the License is distributed on an \"AS IS\" BASIS,\n",
              "// WITHOUT WARRANTIES OR CONDITIONS OF ANY KIND, either express or implied.\n",
              "// See the License for the specific language governing permissions and\n",
              "// limitations under the License.\n",
              "\n",
              "/**\n",
              " * @fileoverview Helpers for google.colab Python module.\n",
              " */\n",
              "(function(scope) {\n",
              "function span(text, styleAttributes = {}) {\n",
              "  const element = document.createElement('span');\n",
              "  element.textContent = text;\n",
              "  for (const key of Object.keys(styleAttributes)) {\n",
              "    element.style[key] = styleAttributes[key];\n",
              "  }\n",
              "  return element;\n",
              "}\n",
              "\n",
              "// Max number of bytes which will be uploaded at a time.\n",
              "const MAX_PAYLOAD_SIZE = 100 * 1024;\n",
              "\n",
              "function _uploadFiles(inputId, outputId) {\n",
              "  const steps = uploadFilesStep(inputId, outputId);\n",
              "  const outputElement = document.getElementById(outputId);\n",
              "  // Cache steps on the outputElement to make it available for the next call\n",
              "  // to uploadFilesContinue from Python.\n",
              "  outputElement.steps = steps;\n",
              "\n",
              "  return _uploadFilesContinue(outputId);\n",
              "}\n",
              "\n",
              "// This is roughly an async generator (not supported in the browser yet),\n",
              "// where there are multiple asynchronous steps and the Python side is going\n",
              "// to poll for completion of each step.\n",
              "// This uses a Promise to block the python side on completion of each step,\n",
              "// then passes the result of the previous step as the input to the next step.\n",
              "function _uploadFilesContinue(outputId) {\n",
              "  const outputElement = document.getElementById(outputId);\n",
              "  const steps = outputElement.steps;\n",
              "\n",
              "  const next = steps.next(outputElement.lastPromiseValue);\n",
              "  return Promise.resolve(next.value.promise).then((value) => {\n",
              "    // Cache the last promise value to make it available to the next\n",
              "    // step of the generator.\n",
              "    outputElement.lastPromiseValue = value;\n",
              "    return next.value.response;\n",
              "  });\n",
              "}\n",
              "\n",
              "/**\n",
              " * Generator function which is called between each async step of the upload\n",
              " * process.\n",
              " * @param {string} inputId Element ID of the input file picker element.\n",
              " * @param {string} outputId Element ID of the output display.\n",
              " * @return {!Iterable<!Object>} Iterable of next steps.\n",
              " */\n",
              "function* uploadFilesStep(inputId, outputId) {\n",
              "  const inputElement = document.getElementById(inputId);\n",
              "  inputElement.disabled = false;\n",
              "\n",
              "  const outputElement = document.getElementById(outputId);\n",
              "  outputElement.innerHTML = '';\n",
              "\n",
              "  const pickedPromise = new Promise((resolve) => {\n",
              "    inputElement.addEventListener('change', (e) => {\n",
              "      resolve(e.target.files);\n",
              "    });\n",
              "  });\n",
              "\n",
              "  const cancel = document.createElement('button');\n",
              "  inputElement.parentElement.appendChild(cancel);\n",
              "  cancel.textContent = 'Cancel upload';\n",
              "  const cancelPromise = new Promise((resolve) => {\n",
              "    cancel.onclick = () => {\n",
              "      resolve(null);\n",
              "    };\n",
              "  });\n",
              "\n",
              "  // Wait for the user to pick the files.\n",
              "  const files = yield {\n",
              "    promise: Promise.race([pickedPromise, cancelPromise]),\n",
              "    response: {\n",
              "      action: 'starting',\n",
              "    }\n",
              "  };\n",
              "\n",
              "  cancel.remove();\n",
              "\n",
              "  // Disable the input element since further picks are not allowed.\n",
              "  inputElement.disabled = true;\n",
              "\n",
              "  if (!files) {\n",
              "    return {\n",
              "      response: {\n",
              "        action: 'complete',\n",
              "      }\n",
              "    };\n",
              "  }\n",
              "\n",
              "  for (const file of files) {\n",
              "    const li = document.createElement('li');\n",
              "    li.append(span(file.name, {fontWeight: 'bold'}));\n",
              "    li.append(span(\n",
              "        `(${file.type || 'n/a'}) - ${file.size} bytes, ` +\n",
              "        `last modified: ${\n",
              "            file.lastModifiedDate ? file.lastModifiedDate.toLocaleDateString() :\n",
              "                                    'n/a'} - `));\n",
              "    const percent = span('0% done');\n",
              "    li.appendChild(percent);\n",
              "\n",
              "    outputElement.appendChild(li);\n",
              "\n",
              "    const fileDataPromise = new Promise((resolve) => {\n",
              "      const reader = new FileReader();\n",
              "      reader.onload = (e) => {\n",
              "        resolve(e.target.result);\n",
              "      };\n",
              "      reader.readAsArrayBuffer(file);\n",
              "    });\n",
              "    // Wait for the data to be ready.\n",
              "    let fileData = yield {\n",
              "      promise: fileDataPromise,\n",
              "      response: {\n",
              "        action: 'continue',\n",
              "      }\n",
              "    };\n",
              "\n",
              "    // Use a chunked sending to avoid message size limits. See b/62115660.\n",
              "    let position = 0;\n",
              "    do {\n",
              "      const length = Math.min(fileData.byteLength - position, MAX_PAYLOAD_SIZE);\n",
              "      const chunk = new Uint8Array(fileData, position, length);\n",
              "      position += length;\n",
              "\n",
              "      const base64 = btoa(String.fromCharCode.apply(null, chunk));\n",
              "      yield {\n",
              "        response: {\n",
              "          action: 'append',\n",
              "          file: file.name,\n",
              "          data: base64,\n",
              "        },\n",
              "      };\n",
              "\n",
              "      let percentDone = fileData.byteLength === 0 ?\n",
              "          100 :\n",
              "          Math.round((position / fileData.byteLength) * 100);\n",
              "      percent.textContent = `${percentDone}% done`;\n",
              "\n",
              "    } while (position < fileData.byteLength);\n",
              "  }\n",
              "\n",
              "  // All done.\n",
              "  yield {\n",
              "    response: {\n",
              "      action: 'complete',\n",
              "    }\n",
              "  };\n",
              "}\n",
              "\n",
              "scope.google = scope.google || {};\n",
              "scope.google.colab = scope.google.colab || {};\n",
              "scope.google.colab._files = {\n",
              "  _uploadFiles,\n",
              "  _uploadFilesContinue,\n",
              "};\n",
              "})(self);\n",
              "</script> "
            ],
            "text/plain": [
              "<IPython.core.display.HTML object>"
            ]
          },
          "metadata": {},
          "output_type": "display_data"
        },
        {
          "name": "stdout",
          "output_type": "stream",
          "text": [
            "Saving LeadsData.csv to LeadsData.csv\n"
          ]
        }
      ],
      "source": [
        "uploaded = files.upload()"
      ]
    },
    {
      "cell_type": "code",
      "execution_count": 10,
      "metadata": {
        "id": "tKn8mxq7bXwB"
      },
      "outputs": [],
      "source": [
        "import pandas as pd\n",
        "from datetime import datetime\n",
        "from sklearn.decomposition import PCA\n",
        "import numpy as np"
      ]
    },
    {
      "cell_type": "code",
      "execution_count": 2,
      "metadata": {
        "id": "NXCdTn2FbedJ"
      },
      "outputs": [],
      "source": [
        "df = pd.read_csv('/Users/aryamantepal/Documents/programs/Breakthrough Tech AI MIT/AI Studio/Customer_Sentiment_Analysis/Datasets/LeadsData.csv', sep='\\t')"
      ]
    },
    {
      "cell_type": "code",
      "execution_count": 3,
      "metadata": {
        "colab": {
          "base_uri": "https://localhost:8080/",
          "height": 206
        },
        "id": "-UOPn-WCbk7h",
        "outputId": "e3171beb-2bf5-4aba-ce58-a2898d0157ad"
      },
      "outputs": [
        {
          "data": {
            "text/html": [
              "<div>\n",
              "<style scoped>\n",
              "    .dataframe tbody tr th:only-of-type {\n",
              "        vertical-align: middle;\n",
              "    }\n",
              "\n",
              "    .dataframe tbody tr th {\n",
              "        vertical-align: top;\n",
              "    }\n",
              "\n",
              "    .dataframe thead th {\n",
              "        text-align: right;\n",
              "    }\n",
              "</style>\n",
              "<table border=\"1\" class=\"dataframe\">\n",
              "  <thead>\n",
              "    <tr style=\"text-align: right;\">\n",
              "      <th></th>\n",
              "      <th>Company Name</th>\n",
              "      <th>Status</th>\n",
              "      <th>LeadId</th>\n",
              "      <th>Date</th>\n",
              "      <th>User Email</th>\n",
              "    </tr>\n",
              "  </thead>\n",
              "  <tbody>\n",
              "    <tr>\n",
              "      <th>0</th>\n",
              "      <td>A+ Electronics</td>\n",
              "      <td>Closed-Lost</td>\n",
              "      <td>4B79ECA7</td>\n",
              "      <td>2024-03-29</td>\n",
              "      <td>Reply@A+ Electronics.com</td>\n",
              "    </tr>\n",
              "    <tr>\n",
              "      <th>1</th>\n",
              "      <td>A+ Investments</td>\n",
              "      <td>Proposal Sent</td>\n",
              "      <td>8A4C9167</td>\n",
              "      <td>2024-04-14</td>\n",
              "      <td>Reply@A+ Investments.com</td>\n",
              "    </tr>\n",
              "    <tr>\n",
              "      <th>2</th>\n",
              "      <td>A Plus Lawn Care</td>\n",
              "      <td>Closed-Won</td>\n",
              "      <td>137894C6</td>\n",
              "      <td>2024-01-07</td>\n",
              "      <td>Reply@A Plus Lawn Care.com</td>\n",
              "    </tr>\n",
              "    <tr>\n",
              "      <th>3</th>\n",
              "      <td>Access Asia</td>\n",
              "      <td>Closed-Lost</td>\n",
              "      <td>E5CEFAB2</td>\n",
              "      <td>2024-01-18</td>\n",
              "      <td>Reply@Access Asia.com</td>\n",
              "    </tr>\n",
              "    <tr>\n",
              "      <th>4</th>\n",
              "      <td>Accord Investments</td>\n",
              "      <td>New</td>\n",
              "      <td>199F3426</td>\n",
              "      <td>2024-03-13</td>\n",
              "      <td>Reply@Accord Investments.com</td>\n",
              "    </tr>\n",
              "  </tbody>\n",
              "</table>\n",
              "</div>"
            ],
            "text/plain": [
              "         Company Name         Status    LeadId        Date  \\\n",
              "0      A+ Electronics    Closed-Lost  4B79ECA7  2024-03-29   \n",
              "1      A+ Investments  Proposal Sent  8A4C9167  2024-04-14   \n",
              "2    A Plus Lawn Care     Closed-Won  137894C6  2024-01-07   \n",
              "3         Access Asia    Closed-Lost  E5CEFAB2  2024-01-18   \n",
              "4  Accord Investments            New  199F3426  2024-03-13   \n",
              "\n",
              "                     User Email  \n",
              "0      Reply@A+ Electronics.com  \n",
              "1      Reply@A+ Investments.com  \n",
              "2    Reply@A Plus Lawn Care.com  \n",
              "3         Reply@Access Asia.com  \n",
              "4  Reply@Accord Investments.com  "
            ]
          },
          "execution_count": 3,
          "metadata": {},
          "output_type": "execute_result"
        }
      ],
      "source": [
        "df.head()"
      ]
    },
    {
      "cell_type": "code",
      "execution_count": 4,
      "metadata": {
        "colab": {
          "base_uri": "https://localhost:8080/"
        },
        "id": "Hs5GIOmtb8Ee",
        "outputId": "912400bc-c8b6-4df7-b767-51f2c7169e14"
      },
      "outputs": [],
      "source": [
        "df['Company Name'].fillna('Unknown', inplace=True)\n",
        "df['Status'].fillna('Unknown', inplace=True)\n",
        "df['Date'].fillna(datetime.now().strftime('%Y-%m-%d'), inplace=True)\n",
        "df['User Email'].fillna('unknown@example.com', inplace=True)"
      ]
    },
    {
      "cell_type": "code",
      "execution_count": 5,
      "metadata": {
        "id": "kZmxwh-pb9mC"
      },
      "outputs": [],
      "source": [
        "df['Company Name'] = df['Company Name'].str.upper()\n",
        "df['Date'] = pd.to_datetime(df['Date']).dt.strftime('%Y-%m-%d')\n",
        "df['User Email'] = df['User Email'].str.strip().str.lower()"
      ]
    },
    {
      "cell_type": "code",
      "execution_count": 6,
      "metadata": {
        "colab": {
          "base_uri": "https://localhost:8080/",
          "height": 206
        },
        "id": "4ohEj5VOcILq",
        "outputId": "e17a2c3e-a55c-41ed-942e-673c42f8dc10"
      },
      "outputs": [
        {
          "data": {
            "text/html": [
              "<div>\n",
              "<style scoped>\n",
              "    .dataframe tbody tr th:only-of-type {\n",
              "        vertical-align: middle;\n",
              "    }\n",
              "\n",
              "    .dataframe tbody tr th {\n",
              "        vertical-align: top;\n",
              "    }\n",
              "\n",
              "    .dataframe thead th {\n",
              "        text-align: right;\n",
              "    }\n",
              "</style>\n",
              "<table border=\"1\" class=\"dataframe\">\n",
              "  <thead>\n",
              "    <tr style=\"text-align: right;\">\n",
              "      <th></th>\n",
              "      <th>Company Name</th>\n",
              "      <th>Status</th>\n",
              "      <th>LeadId</th>\n",
              "      <th>Date</th>\n",
              "      <th>User Email</th>\n",
              "    </tr>\n",
              "  </thead>\n",
              "  <tbody>\n",
              "    <tr>\n",
              "      <th>0</th>\n",
              "      <td>A+ ELECTRONICS</td>\n",
              "      <td>Closed-Lost</td>\n",
              "      <td>4B79ECA7</td>\n",
              "      <td>2024-03-29</td>\n",
              "      <td>reply@a+ electronics.com</td>\n",
              "    </tr>\n",
              "    <tr>\n",
              "      <th>1</th>\n",
              "      <td>A+ INVESTMENTS</td>\n",
              "      <td>Proposal Sent</td>\n",
              "      <td>8A4C9167</td>\n",
              "      <td>2024-04-14</td>\n",
              "      <td>reply@a+ investments.com</td>\n",
              "    </tr>\n",
              "    <tr>\n",
              "      <th>2</th>\n",
              "      <td>A PLUS LAWN CARE</td>\n",
              "      <td>Closed-Won</td>\n",
              "      <td>137894C6</td>\n",
              "      <td>2024-01-07</td>\n",
              "      <td>reply@a plus lawn care.com</td>\n",
              "    </tr>\n",
              "    <tr>\n",
              "      <th>3</th>\n",
              "      <td>ACCESS ASIA</td>\n",
              "      <td>Closed-Lost</td>\n",
              "      <td>E5CEFAB2</td>\n",
              "      <td>2024-01-18</td>\n",
              "      <td>reply@access asia.com</td>\n",
              "    </tr>\n",
              "    <tr>\n",
              "      <th>4</th>\n",
              "      <td>ACCORD INVESTMENTS</td>\n",
              "      <td>New</td>\n",
              "      <td>199F3426</td>\n",
              "      <td>2024-03-13</td>\n",
              "      <td>reply@accord investments.com</td>\n",
              "    </tr>\n",
              "  </tbody>\n",
              "</table>\n",
              "</div>"
            ],
            "text/plain": [
              "         Company Name         Status    LeadId        Date  \\\n",
              "0      A+ ELECTRONICS    Closed-Lost  4B79ECA7  2024-03-29   \n",
              "1      A+ INVESTMENTS  Proposal Sent  8A4C9167  2024-04-14   \n",
              "2    A PLUS LAWN CARE     Closed-Won  137894C6  2024-01-07   \n",
              "3         ACCESS ASIA    Closed-Lost  E5CEFAB2  2024-01-18   \n",
              "4  ACCORD INVESTMENTS            New  199F3426  2024-03-13   \n",
              "\n",
              "                     User Email  \n",
              "0      reply@a+ electronics.com  \n",
              "1      reply@a+ investments.com  \n",
              "2    reply@a plus lawn care.com  \n",
              "3         reply@access asia.com  \n",
              "4  reply@accord investments.com  "
            ]
          },
          "execution_count": 6,
          "metadata": {},
          "output_type": "execute_result"
        }
      ],
      "source": [
        "df.head()"
      ]
    },
    {
      "cell_type": "code",
      "execution_count": 7,
      "metadata": {
        "colab": {
          "base_uri": "https://localhost:8080/"
        },
        "id": "x4E81P7WcJQo",
        "outputId": "ba9f0aa4-872d-48b3-da71-de3075161f20"
      },
      "outputs": [
        {
          "name": "stdout",
          "output_type": "stream",
          "text": [
            "Index(['Company Name', 'Status', 'LeadId', 'Date', 'User Email'], dtype='object')\n"
          ]
        }
      ],
      "source": [
        "print(df.columns)"
      ]
    },
    {
      "cell_type": "code",
      "execution_count": 8,
      "metadata": {
        "colab": {
          "base_uri": "https://localhost:8080/"
        },
        "id": "Cfhe-kXedBmo",
        "outputId": "0dd70b96-3bae-4ec7-c33e-fd65709111a5"
      },
      "outputs": [
        {
          "name": "stdout",
          "output_type": "stream",
          "text": [
            "['Closed-Lost' 'Proposal Sent' 'Closed-Won' 'New' 'Qualified' 'On-hold'\n",
            " 'Warm ' 'Disqualified' 'In Progress' 'Cold' 'Contacted' 'Negotiation'\n",
            " 'Reengaged' 'Referral' 'Nurturing']\n"
          ]
        }
      ],
      "source": [
        "unique_status = df['Status'].unique()\n",
        "print(unique_status)"
      ]
    },
    {
      "cell_type": "markdown",
      "metadata": {},
      "source": [
        "Missing & duplicate value checks"
      ]
    },
    {
      "cell_type": "code",
      "execution_count": 11,
      "metadata": {},
      "outputs": [
        {
          "data": {
            "text/plain": [
              "Company Name    0\n",
              "Status          0\n",
              "LeadId          0\n",
              "Date            0\n",
              "User Email      0\n",
              "dtype: int64"
            ]
          },
          "execution_count": 11,
          "metadata": {},
          "output_type": "execute_result"
        }
      ],
      "source": [
        "nan_count = np.sum(df.isnull(), axis = 0)\n",
        "nan_count"
      ]
    },
    {
      "cell_type": "code",
      "execution_count": 12,
      "metadata": {},
      "outputs": [
        {
          "data": {
            "text/plain": [
              "23040"
            ]
          },
          "execution_count": 12,
          "metadata": {},
          "output_type": "execute_result"
        }
      ],
      "source": [
        "df.size"
      ]
    },
    {
      "cell_type": "code",
      "execution_count": 13,
      "metadata": {},
      "outputs": [],
      "source": [
        "df = df.drop_duplicates()"
      ]
    },
    {
      "cell_type": "code",
      "execution_count": 14,
      "metadata": {},
      "outputs": [
        {
          "data": {
            "text/plain": [
              "23040"
            ]
          },
          "execution_count": 14,
          "metadata": {},
          "output_type": "execute_result"
        }
      ],
      "source": [
        "df.size"
      ]
    },
    {
      "cell_type": "markdown",
      "metadata": {},
      "source": [
        "### Implementing One hot encoding "
      ]
    },
    {
      "cell_type": "code",
      "execution_count": 27,
      "metadata": {
        "id": "PbbAqYYZdzW1"
      },
      "outputs": [],
      "source": [
        "one_hot_encoded_df = pd.get_dummies(df, columns=['Status'])"
      ]
    },
    {
      "cell_type": "code",
      "execution_count": 29,
      "metadata": {
        "colab": {
          "base_uri": "https://localhost:8080/"
        },
        "id": "W7IiM7o6eFTj",
        "outputId": "c3a9dc56-9688-4483-a863-027d748cdd03"
      },
      "outputs": [
        {
          "name": "stdout",
          "output_type": "stream",
          "text": [
            "         Company Name    LeadId        Date                    User Email  \\\n",
            "0      A+ ELECTRONICS  4B79ECA7  2024-03-29      reply@a+ electronics.com   \n",
            "1      A+ INVESTMENTS  8A4C9167  2024-04-14      reply@a+ investments.com   \n",
            "2    A PLUS LAWN CARE  137894C6  2024-01-07    reply@a plus lawn care.com   \n",
            "3         ACCESS ASIA  E5CEFAB2  2024-01-18         reply@access asia.com   \n",
            "4  ACCORD INVESTMENTS  199F3426  2024-03-13  reply@accord investments.com   \n",
            "\n",
            "   Status_Closed-Lost  Status_Closed-Won  Status_Cold  Status_Contacted  \\\n",
            "0                True              False        False             False   \n",
            "1               False              False        False             False   \n",
            "2               False               True        False             False   \n",
            "3                True              False        False             False   \n",
            "4               False              False        False             False   \n",
            "\n",
            "   Status_Disqualified  Status_In Progress  Status_Negotiation  Status_New  \\\n",
            "0                False               False               False       False   \n",
            "1                False               False               False       False   \n",
            "2                False               False               False       False   \n",
            "3                False               False               False       False   \n",
            "4                False               False               False        True   \n",
            "\n",
            "   Status_Nurturing  Status_On-hold  Status_Proposal Sent  Status_Qualified  \\\n",
            "0             False           False                 False             False   \n",
            "1             False           False                  True             False   \n",
            "2             False           False                 False             False   \n",
            "3             False           False                 False             False   \n",
            "4             False           False                 False             False   \n",
            "\n",
            "   Status_Reengaged  Status_Referral  Status_Warm   \n",
            "0             False            False         False  \n",
            "1             False            False         False  \n",
            "2             False            False         False  \n",
            "3             False            False         False  \n",
            "4             False            False         False  \n"
          ]
        }
      ],
      "source": [
        "print(one_hot_encoded_df.head())"
      ]
    },
    {
      "cell_type": "code",
      "execution_count": null,
      "metadata": {
        "id": "Co8pF9CEeXbr"
      },
      "outputs": [],
      "source": []
    }
  ],
  "metadata": {
    "colab": {
      "provenance": []
    },
    "kernelspec": {
      "display_name": "Python 3",
      "name": "python3"
    },
    "language_info": {
      "codemirror_mode": {
        "name": "ipython",
        "version": 3
      },
      "file_extension": ".py",
      "mimetype": "text/x-python",
      "name": "python",
      "nbconvert_exporter": "python",
      "pygments_lexer": "ipython3",
      "version": "3.11.5"
    }
  },
  "nbformat": 4,
  "nbformat_minor": 0
}
