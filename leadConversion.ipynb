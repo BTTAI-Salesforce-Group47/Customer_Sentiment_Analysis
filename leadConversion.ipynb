{
 "cells": [
  {
   "cell_type": "code",
   "execution_count": 1,
   "metadata": {},
   "outputs": [],
   "source": [
    "import pandas as pd\n",
    "import numpy as np\n",
    "from sklearn.model_selection import train_test_split\n",
    "from sklearn.preprocessing import LabelEncoder, StandardScaler\n",
    "from sklearn.ensemble import RandomForestClassifier\n",
    "from sklearn.metrics import classification_report, confusion_matrix\n",
    "import matplotlib.pyplot as plt\n",
    "import seaborn as sns\n",
    "\n",
    "feedback_data = pd.read_csv('/Users/aryamantepal/Documents/programs/Breakthrough Tech AI MIT/AI Studio/Customer_Sentiment_Analysis/clean-data/feedback_data_with_sentiment.csv', sep=\",\")\n",
    "leads_data = pd.read_csv('/Users/aryamantepal/Documents/programs/Breakthrough Tech AI MIT/AI Studio/Customer_Sentiment_Analysis/Datasets/LeadsData.csv',sep =\"\\t\" )"
   ]
  },
  {
   "cell_type": "code",
   "execution_count": 2,
   "metadata": {},
   "outputs": [],
   "source": [
    "# Group by User Email and calculate average sentiment\n",
    "avg_sentiment = feedback_data.groupby('Company Name').agg({\n",
    "    'text_sentiment': 'mean',\n",
    "    'combined_sentiment': 'mean',\n",
    "    'Rating': 'mean'\n",
    "}).reset_index()"
   ]
  },
  {
   "cell_type": "code",
   "execution_count": 3,
   "metadata": {},
   "outputs": [],
   "source": [
    "merged_data = pd.merge(leads_data, avg_sentiment, on='Company Name', how='inner')"
   ]
  },
  {
   "cell_type": "code",
   "execution_count": 4,
   "metadata": {},
   "outputs": [],
   "source": [
    "merged_data['target'] = (merged_data['Status'] == 'Closed-Won').astype(int)"
   ]
  },
  {
   "cell_type": "code",
   "execution_count": 5,
   "metadata": {},
   "outputs": [],
   "source": [
    "le = LabelEncoder()\n",
    "merged_data['Company_Name_Encoded'] = le.fit_transform(merged_data['Company Name'])\n",
    "\n",
    "\n",
    "features = [\n",
    "    'Company_Name_Encoded', \n",
    "    'text_sentiment', \n",
    "    'combined_sentiment', \n",
    "    'Rating'\n",
    "]\n",
    "\n",
    "X = merged_data[features]\n",
    "y = merged_data['target']\n",
    "\n",
    "\n",
    "X_train, X_test, y_train, y_test = train_test_split(X, y, test_size=0.2, random_state=42)"
   ]
  },
  {
   "cell_type": "code",
   "execution_count": 6,
   "metadata": {},
   "outputs": [],
   "source": [
    "scaler = StandardScaler()\n",
    "X_train_scaled = scaler.fit_transform(X_train)\n",
    "X_test_scaled = scaler.transform(X_test)\n",
    "\n",
    "rf_classifier = RandomForestClassifier(n_estimators=100, random_state=42)\n",
    "rf_classifier.fit(X_train_scaled, y_train)\n",
    "\n",
    "y_pred = rf_classifier.predict(X_test_scaled)\n",
    "y_pred_proba = rf_classifier.predict_proba(X_test_scaled)[:, 1]"
   ]
  },
  {
   "cell_type": "code",
   "execution_count": 7,
   "metadata": {},
   "outputs": [
    {
     "name": "stdout",
     "output_type": "stream",
     "text": [
      "Classification Report:\n",
      "              precision    recall  f1-score   support\n",
      "\n",
      "           0       0.94      1.00      0.97       867\n",
      "           1       0.20      0.02      0.03        55\n",
      "\n",
      "    accuracy                           0.94       922\n",
      "   macro avg       0.57      0.51      0.50       922\n",
      "weighted avg       0.90      0.94      0.91       922\n",
      "\n",
      "\n",
      "Feature Importance:\n",
      "                feature  importance\n",
      "1        text_sentiment    0.277119\n",
      "2    combined_sentiment    0.262637\n",
      "0  Company_Name_Encoded    0.249295\n",
      "3                Rating    0.210950\n"
     ]
    }
   ],
   "source": [
    "print(\"Classification Report:\")\n",
    "print(classification_report(y_test, y_pred))\n",
    "\n",
    "feature_importance = pd.DataFrame({\n",
    "    'feature': features,\n",
    "    'importance': rf_classifier.feature_importances_\n",
    "}).sort_values('importance', ascending=False)\n",
    "print(\"\\nFeature Importance:\")\n",
    "print(feature_importance)\n",
    "\n"
   ]
  },
  {
   "cell_type": "code",
   "execution_count": 8,
   "metadata": {},
   "outputs": [
    {
     "name": "stdout",
     "output_type": "stream",
     "text": [
      "\n",
      "Top 10 High-Potential Leads:\n",
      "             Company Name       Status                     User Email  \\\n",
      "4538                Xerox      On-hold                Reply@Xerox.com   \n",
      "2456               Google      On-hold               Reply@Google.com   \n",
      "2798       Kimberly-Clark  Negotiation       Reply@Kimberly-Clark.com   \n",
      "4486  Whole Foods Markets        Warm   Reply@Whole Foods Markets.com   \n",
      "554                Boeing         Cold               Reply@Boeing.com   \n",
      "1089              Verizon    Reengaged              Reply@Verizon.com   \n",
      "100          Formula Gray    Reengaged         Reply@Formula Gray.com   \n",
      "2875             LancÃ´me  Closed-Lost             Reply@LancÃ´me.com   \n",
      "823                 Kmart    Qualified                Reply@Kmart.com   \n",
      "1780       Cascadian Farm  Negotiation       Reply@Cascadian Farm.com   \n",
      "\n",
      "      conversion_probability  \n",
      "4538                0.730000  \n",
      "2456                0.730000  \n",
      "2798                0.660000  \n",
      "4486                0.560000  \n",
      "554                 0.495833  \n",
      "1089                0.487167  \n",
      "100                 0.486667  \n",
      "2875                0.486667  \n",
      "823                 0.480381  \n",
      "1780                0.465000  \n"
     ]
    },
    {
     "name": "stderr",
     "output_type": "stream",
     "text": [
      "/var/folders/rx/q5w9l9sd7zq8l0t_p73qg_l00000gn/T/ipykernel_42171/2824847148.py:5: SettingWithCopyWarning: \n",
      "A value is trying to be set on a copy of a slice from a DataFrame.\n",
      "Try using .loc[row_indexer,col_indexer] = value instead\n",
      "\n",
      "See the caveats in the documentation: https://pandas.pydata.org/pandas-docs/stable/user_guide/indexing.html#returning-a-view-versus-a-copy\n",
      "  non_closed_leads['conversion_probability'] = rf_classifier.predict_proba(non_closed_features_scaled)[:, 1]\n"
     ]
    }
   ],
   "source": [
    "non_closed_leads = merged_data[merged_data['Status'] != 'Closed-Won']\n",
    "non_closed_features = non_closed_leads[features]\n",
    "non_closed_features_scaled = scaler.transform(non_closed_features)\n",
    "\n",
    "non_closed_leads['conversion_probability'] = rf_classifier.predict_proba(non_closed_features_scaled)[:, 1]\n",
    "\n",
    "high_potential_leads = non_closed_leads.sort_values('conversion_probability', ascending=False)\n",
    "\n",
    "print(\"\\nTop 10 High-Potential Leads:\")\n",
    "print(high_potential_leads[['Company Name', 'Status', 'User Email', 'conversion_probability']].head(10))"
   ]
  },
  {
   "cell_type": "code",
   "execution_count": 9,
   "metadata": {},
   "outputs": [
    {
     "name": "stdout",
     "output_type": "stream",
     "text": [
      "\n",
      "High-potential leads have been saved to 'high_potential_leads.csv'\n",
      "Conversion probability distribution plot saved as 'conversion_probability_distribution.png'\n"
     ]
    }
   ],
   "source": [
    "plt.figure(figsize=(10, 6))\n",
    "sns.histplot(high_potential_leads['conversion_probability'], kde=True)\n",
    "plt.title('Distribution of Conversion Probabilities for Non-Closed Leads')\n",
    "plt.xlabel('Conversion Probability')\n",
    "plt.ylabel('Frequency')\n",
    "plt.savefig('conversion_probability_distribution.png')\n",
    "plt.close()\n",
    "\n",
    "\n",
    "high_potential_leads[['Company Name', 'Status', 'User Email', 'conversion_probability']].to_csv('high_potential_leads.csv', index=False)\n",
    "\n",
    "print(\"\\nHigh-potential leads have been saved to 'high_potential_leads.csv'\")\n",
    "print(\"Conversion probability distribution plot saved as 'conversion_probability_distribution.png'\")"
   ]
  }
 ],
 "metadata": {
  "kernelspec": {
   "display_name": "salesforce",
   "language": "python",
   "name": "python3"
  },
  "language_info": {
   "codemirror_mode": {
    "name": "ipython",
    "version": 3
   },
   "file_extension": ".py",
   "mimetype": "text/x-python",
   "name": "python",
   "nbconvert_exporter": "python",
   "pygments_lexer": "ipython3",
   "version": "3.10.15"
  },
  "orig_nbformat": 4
 },
 "nbformat": 4,
 "nbformat_minor": 2
}
