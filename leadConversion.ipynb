{
 "cells": [
  {
   "cell_type": "code",
   "execution_count": 1,
   "metadata": {},
   "outputs": [],
   "source": [
    "import pandas as pd"
   ]
  },
  {
   "cell_type": "code",
   "execution_count": 6,
   "metadata": {},
   "outputs": [],
   "source": [
    "df = pd.read_csv(\"/Users/aryamantepal/Documents/programs/Breakthrough Tech AI MIT/AI Studio/Customer_Sentiment_Analysis/Datasets/LeadsData.csv\", on_bad_lines=\"skip\", sep =\"\\t\" )"
   ]
  },
  {
   "cell_type": "code",
   "execution_count": 7,
   "metadata": {},
   "outputs": [
    {
     "data": {
      "text/html": [
       "<div>\n",
       "<style scoped>\n",
       "    .dataframe tbody tr th:only-of-type {\n",
       "        vertical-align: middle;\n",
       "    }\n",
       "\n",
       "    .dataframe tbody tr th {\n",
       "        vertical-align: top;\n",
       "    }\n",
       "\n",
       "    .dataframe thead th {\n",
       "        text-align: right;\n",
       "    }\n",
       "</style>\n",
       "<table border=\"1\" class=\"dataframe\">\n",
       "  <thead>\n",
       "    <tr style=\"text-align: right;\">\n",
       "      <th></th>\n",
       "      <th>Company Name</th>\n",
       "      <th>Status</th>\n",
       "      <th>LeadId</th>\n",
       "      <th>Date</th>\n",
       "      <th>User Email</th>\n",
       "    </tr>\n",
       "  </thead>\n",
       "  <tbody>\n",
       "    <tr>\n",
       "      <th>0</th>\n",
       "      <td>A+ Electronics</td>\n",
       "      <td>Closed-Lost</td>\n",
       "      <td>4B79ECA7</td>\n",
       "      <td>2024-03-29</td>\n",
       "      <td>Reply@A+ Electronics.com</td>\n",
       "    </tr>\n",
       "    <tr>\n",
       "      <th>1</th>\n",
       "      <td>A+ Investments</td>\n",
       "      <td>Proposal Sent</td>\n",
       "      <td>8A4C9167</td>\n",
       "      <td>2024-04-14</td>\n",
       "      <td>Reply@A+ Investments.com</td>\n",
       "    </tr>\n",
       "    <tr>\n",
       "      <th>2</th>\n",
       "      <td>A Plus Lawn Care</td>\n",
       "      <td>Closed-Won</td>\n",
       "      <td>137894C6</td>\n",
       "      <td>2024-01-07</td>\n",
       "      <td>Reply@A Plus Lawn Care.com</td>\n",
       "    </tr>\n",
       "    <tr>\n",
       "      <th>3</th>\n",
       "      <td>Access Asia</td>\n",
       "      <td>Closed-Lost</td>\n",
       "      <td>E5CEFAB2</td>\n",
       "      <td>2024-01-18</td>\n",
       "      <td>Reply@Access Asia.com</td>\n",
       "    </tr>\n",
       "    <tr>\n",
       "      <th>4</th>\n",
       "      <td>Accord Investments</td>\n",
       "      <td>New</td>\n",
       "      <td>199F3426</td>\n",
       "      <td>2024-03-13</td>\n",
       "      <td>Reply@Accord Investments.com</td>\n",
       "    </tr>\n",
       "  </tbody>\n",
       "</table>\n",
       "</div>"
      ],
      "text/plain": [
       "         Company Name         Status    LeadId        Date  \\\n",
       "0      A+ Electronics    Closed-Lost  4B79ECA7  2024-03-29   \n",
       "1      A+ Investments  Proposal Sent  8A4C9167  2024-04-14   \n",
       "2    A Plus Lawn Care     Closed-Won  137894C6  2024-01-07   \n",
       "3         Access Asia    Closed-Lost  E5CEFAB2  2024-01-18   \n",
       "4  Accord Investments            New  199F3426  2024-03-13   \n",
       "\n",
       "                     User Email  \n",
       "0      Reply@A+ Electronics.com  \n",
       "1      Reply@A+ Investments.com  \n",
       "2    Reply@A Plus Lawn Care.com  \n",
       "3         Reply@Access Asia.com  \n",
       "4  Reply@Accord Investments.com  "
      ]
     },
     "execution_count": 7,
     "metadata": {},
     "output_type": "execute_result"
    }
   ],
   "source": [
    "df.head()"
   ]
  },
  {
   "cell_type": "code",
   "execution_count": 10,
   "metadata": {},
   "outputs": [
    {
     "data": {
      "text/plain": [
       "<bound method DataFrame.info of             Company Name         Status    LeadId        Date  \\\n",
       "0         A+ Electronics    Closed-Lost  4B79ECA7  2024-03-29   \n",
       "1         A+ Investments  Proposal Sent  8A4C9167  2024-04-14   \n",
       "2       A Plus Lawn Care     Closed-Won  137894C6  2024-01-07   \n",
       "3            Access Asia    Closed-Lost  E5CEFAB2  2024-01-18   \n",
       "4     Accord Investments            New  199F3426  2024-03-13   \n",
       "...                  ...            ...       ...         ...   \n",
       "4603              iTunes   Disqualified  BCA6C825  2024-02-29   \n",
       "4604               iiNet   Disqualified  D2E8B600  2024-04-01   \n",
       "4605                resQ      Contacted  900A5C8D  2024-04-19   \n",
       "4606         ÃcomarchÃ©      Reengaged  63239640  2024-02-03   \n",
       "4607                ÃBB      Nurturing  D6C03C84  2024-02-21   \n",
       "\n",
       "                        User Email  \n",
       "0         Reply@A+ Electronics.com  \n",
       "1         Reply@A+ Investments.com  \n",
       "2       Reply@A Plus Lawn Care.com  \n",
       "3            Reply@Access Asia.com  \n",
       "4     Reply@Accord Investments.com  \n",
       "...                            ...  \n",
       "4603              Reply@iTunes.com  \n",
       "4604               Reply@iiNet.com  \n",
       "4605                Reply@resQ.com  \n",
       "4606         Reply@ÃcomarchÃ©.com  \n",
       "4607                Reply@ÃBB.com  \n",
       "\n",
       "[4608 rows x 5 columns]>"
      ]
     },
     "execution_count": 10,
     "metadata": {},
     "output_type": "execute_result"
    }
   ],
   "source": [
    "df.info"
   ]
  },
  {
   "cell_type": "code",
   "execution_count": 11,
   "metadata": {},
   "outputs": [],
   "source": [
    "feedback_data = pd.read_csv(\"/Users/aryamantepal/Documents/programs/Breakthrough Tech AI MIT/AI Studio/Customer_Sentiment_Analysis/Datasets/feedbackData.csv\", sep=\"\\t\")"
   ]
  },
  {
   "cell_type": "code",
   "execution_count": 12,
   "metadata": {},
   "outputs": [
    {
     "data": {
      "text/plain": [
       "<bound method DataFrame.info of          Timestamp  Rating                                           Feedback  \\\n",
       "0       2024-01-05      10                                          adfjhrfb    \n",
       "1       2024-04-27       1                                             test12   \n",
       "2       2024-03-12       5                                    or480r fk qkefb   \n",
       "3       2024-04-22       6  The service is decent, but it's not without it...   \n",
       "4       2024-02-14       7  The new features are incredibly useful and eas...   \n",
       "...            ...     ...                                                ...   \n",
       "133219  2024-03-26       5                                                NaN   \n",
       "133220  2024-04-24       8        Great value for the price, would buy again.   \n",
       "133221  2024-02-07      10  Excellent customer support and fast response t...   \n",
       "133222  2024-03-27       7                                        dfjbyefwi v   \n",
       "133223  2024-04-04       4  Very poor customer service, unresponsive support.   \n",
       "\n",
       "                                    UserId  \n",
       "0                            Reply@DHL.com  \n",
       "1                         Reply@Prozac.com  \n",
       "2       Reply@Lakeport Brewing Company.com  \n",
       "3                       Reply@Informix.com  \n",
       "4                          Reply@Gucci.com  \n",
       "...                                    ...  \n",
       "133219                     Reply@Prego.com  \n",
       "133220               Reply@Foot Locker.com  \n",
       "133221           Reply@Solution Realty.com  \n",
       "133222                  Reply@Pedigree.com  \n",
       "133223               Reply@Giant Eagle.com  \n",
       "\n",
       "[133224 rows x 4 columns]>"
      ]
     },
     "execution_count": 12,
     "metadata": {},
     "output_type": "execute_result"
    }
   ],
   "source": [
    "feedback_data.info"
   ]
  },
  {
   "cell_type": "markdown",
   "metadata": {},
   "source": []
  },
  {
   "cell_type": "code",
   "execution_count": null,
   "metadata": {},
   "outputs": [],
   "source": []
  }
 ],
 "metadata": {
  "kernelspec": {
   "display_name": "base",
   "language": "python",
   "name": "python3"
  },
  "language_info": {
   "codemirror_mode": {
    "name": "ipython",
    "version": 3
   },
   "file_extension": ".py",
   "mimetype": "text/x-python",
   "name": "python",
   "nbconvert_exporter": "python",
   "pygments_lexer": "ipython3",
   "version": "3.11.4"
  },
  "orig_nbformat": 4
 },
 "nbformat": 4,
 "nbformat_minor": 2
}
